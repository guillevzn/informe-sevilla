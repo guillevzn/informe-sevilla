{
 "cells": [
  {
   "cell_type": "markdown",
   "id": "7e17b936",
   "metadata": {},
   "source": [
    "___"
   ]
  },
  {
   "cell_type": "markdown",
   "id": "1cf42f0d",
   "metadata": {},
   "source": [
    "<h1><center>TRABAJO DE FIN DE GRADO</center></h1>"
   ]
  },
  {
   "cell_type": "markdown",
   "id": "056236de",
   "metadata": {},
   "source": [
    "<center><h1 style=\"font-weight: normal;\">Prolegómenos: Informe de Coyuntura del Municipio de Sevilla</h1></center>"
   ]
  },
  {
   "cell_type": "markdown",
   "id": "9520d828",
   "metadata": {},
   "source": [
    " <pre>\n",
    "\n",
    "\n",
    "\n",
    "\n",
    "</pre>"
   ]
  },
  {
   "cell_type": "markdown",
   "id": "9d4bf582",
   "metadata": {},
   "source": [
    "<b>Autor:</b> D. Guillermo Vizcaíno Román"
   ]
  },
  {
   "cell_type": "markdown",
   "id": "662fdb8a",
   "metadata": {},
   "source": [
    "<b>Tutor:</b> D. Daniel Oto-Peralías"
   ]
  },
  {
   "cell_type": "markdown",
   "id": "0eb71fc9",
   "metadata": {},
   "source": [
    " <pre>\n",
    "\n",
    "\n",
    "\n",
    "\n",
    "</pre>"
   ]
  },
  {
   "cell_type": "markdown",
   "id": "4263a657",
   "metadata": {},
   "source": [
    "<center><b>Grado en Análisis Económico</b></center>"
   ]
  },
  {
   "cell_type": "markdown",
   "id": "a38766da",
   "metadata": {},
   "source": [
    "<center>Facultad de Ciencias Empresariales</center>"
   ]
  },
  {
   "cell_type": "markdown",
   "id": "be59ec2f",
   "metadata": {},
   "source": [
    "<center>Universidad Pablo de Olavide</center>"
   ]
  },
  {
   "cell_type": "markdown",
   "id": "efc49b2b",
   "metadata": {},
   "source": [
    "<center>Curso académico: 2022/2023</center>"
   ]
  },
  {
   "cell_type": "markdown",
   "id": "9965e134",
   "metadata": {},
   "source": [
    "<div style=\"text-align: right\">Sevilla, octubre de 2022</div>"
   ]
  },
  {
   "cell_type": "code",
   "execution_count": 1,
   "id": "bcacde50",
   "metadata": {
    "scrolled": true
   },
   "outputs": [],
   "source": [
    "import dataframe_image as dfi\n",
    "import pandas as pd\n",
    "import numpy as np\n",
    "import matplotlib\n",
    "import matplotlib.pyplot as plt\n",
    "import matplotlib.ticker as mtick\n",
    "\n",
    "from tabulate import tabulate\n",
    "\n",
    "# Varios módulos de statsmodels\n",
    "import statsmodels.api as sm\n",
    "\n",
    "# Dividir la serie temporal: tendencia, estacionalidad y residuos\n",
    "from statsmodels.tsa.seasonal import seasonal_decompose\n",
    "\n",
    "datos = r'C:/Users/guill/OneDrive - Universidad Pablo de Olavide de Sevilla/Universidad/Asignaturas/Cuarto Curso/Trabajo Fin de Grado/Python/Datos/'\n",
    "\n",
    "plt.style.use('bmh')\n",
    "%matplotlib inline"
   ]
  },
  {
   "cell_type": "code",
   "execution_count": 2,
   "id": "2ad32576",
   "metadata": {
    "scrolled": true
   },
   "outputs": [
    {
     "data": {
      "application/javascript": [
       "IPython.OutputArea.prototype._should_scroll = function(lines) {\n",
       "    return false;\n",
       "}\n"
      ],
      "text/plain": [
       "<IPython.core.display.Javascript object>"
      ]
     },
     "metadata": {},
     "output_type": "display_data"
    }
   ],
   "source": [
    "%%javascript\n",
    "IPython.OutputArea.prototype._should_scroll = function(lines) {\n",
    "    return false;\n",
    "}"
   ]
  },
  {
   "cell_type": "code",
   "execution_count": 3,
   "id": "a99d23f4",
   "metadata": {
    "scrolled": true
   },
   "outputs": [
    {
     "data": {
      "text/html": [
       "\n",
       "<style>\n",
       ".output {\n",
       "    display: flex;\n",
       "    align-items: center;\n",
       "    text-align: center;\n",
       "}\n",
       "</style>\n"
      ],
      "text/plain": [
       "<IPython.core.display.HTML object>"
      ]
     },
     "metadata": {},
     "output_type": "display_data"
    }
   ],
   "source": [
    "from IPython.core.display import HTML\n",
    "display(HTML(\"\"\"\n",
    "<style>\n",
    ".output {\n",
    "    display: flex;\n",
    "    align-items: center;\n",
    "    text-align: center;\n",
    "}\n",
    "</style>\n",
    "\"\"\"))"
   ]
  },
  {
   "cell_type": "markdown",
   "id": "3a3c7ef6",
   "metadata": {},
   "source": [
    "<hr>"
   ]
  },
  {
   "cell_type": "markdown",
   "id": "appointed-parts",
   "metadata": {},
   "source": [
    "*Índice*"
   ]
  },
  {
   "cell_type": "markdown",
   "id": "8d6334b9",
   "metadata": {},
   "source": [
    "1. [Esquema general de la metodologia](#Esquema)\n",
    "    \n",
    "    1.1. [Programación y definición de funciones](#Esquema1)\n",
    "    \n",
    "    1.2. [Relleno de valores perdidos o no disponibles](#Esquema2)\n",
    "\n",
    "    1.3. [Método de extracción de la estacionalidad](#Esquema3)\n",
    "<pre>\n",
    "</pre>"
   ]
  },
  {
   "cell_type": "markdown",
   "id": "aba85a50",
   "metadata": {},
   "source": [
    "<hr>"
   ]
  },
  {
   "cell_type": "markdown",
   "id": "expanded-newsletter",
   "metadata": {},
   "source": [
    "> <a id='Esquema'>1. Esquema general de la metodologia</a>\n",
    "\n",
    "A lo largo de esta sección definiremos las principales prácticas de análisis que hemos usado para la realización de este informe. También mencionar las fuentes de datos han sido principalmente el *Instituto de Estadística y Cartografía de Anadalucía*, entre algunas otras como el *Observatorio ARGOS*, del Servicio Andaluz de Empleo."
   ]
  },
  {
   "cell_type": "markdown",
   "id": "934ff98e",
   "metadata": {},
   "source": [
    "<a id='Esquema1'>1.1. Programación y definición de funciones</a>\n",
    "\n",
    "El principal recurso usado es el lenguaje de programación *Python*, así como distintas librerías de uso libre, tanto para la representación de tablas, como otras que sirven para el cálculo estadístico y de modelaje. El procedimiento ha sido siempre de una forma estructurada dónde definíamos diversas funciones de uso común a lo largo de todas las secciones, como la desestacionalización de las series, el cálculo de las tasas de variación, entre otras. El objetivo de ésto ha sido simplificar y poder poner en práctica herramientas disponibles, las cuales me serán de gran utilidad para futuros análisis.\n",
    "\n",
    "Otro recurso ha sido el entorno de programación, que en *Python* nos encontramos numerosos entornos (a diferencia de Stata, MATLAB, etc.) que para nosotros el más correcto ha sido *Jupyter Notebook*, un entorno con base en HTML el cuál nos permite poder realizar una estructura de informe al mismo tiempo que estamos programando y realizando los distintos análisis."
   ]
  },
  {
   "cell_type": "markdown",
   "id": "60be6de5",
   "metadata": {},
   "source": [
    "<a id='Esquema2'>1.2. Relleno de valores perdidos o no disponibles</a>\n",
    "\n",
    "Para el relleno de valores perdidos debemos tener en cuenta varios factores, pero entre ello dos resaltan sobre el resto. Primero sería qué cantidad de valores nulos o perdidos tenemos, ya que si contamos con una serie temporal, la cual la mitad de sus valores no los disponemos, tal vez no podamos hacer nada respecto a ello; ya que, independiente de cuál método usemos no encontraremos una forma de rellenarlo de forma eficaz.\n",
    "\n",
    "Lo segundo sería qué método de rellenado vamos a usar, existen diversas formas y librerías dentro de *Python* donde podemos encontrar métodos lineales, no lineales, por la media o distintos estadísticos sobre el pasado o incluso futuro (si hay valores previos o futuros al valor perdido) sobre la misma serie.\n",
    "\n",
    "Nosotros vamos a centrarnos en dos de ellos, el lineal y el cuadrático para ver cual es la diferencia a nivel visual."
   ]
  },
  {
   "cell_type": "code",
   "execution_count": 4,
   "id": "amazing-socket",
   "metadata": {
    "scrolled": true
   },
   "outputs": [],
   "source": [
    "# IMPORTAMOS PRECIOS HOTELEROS PARA PODER IDENTIFICAR CUAL ES EL MEJOR MÉTODO DE RELLENO DE NaNs\n",
    "\n",
    "precios_hoteles = pd.read_excel(datos + 'Turismo/indice_precios_hoteleros_provincial.xlsx', 'Precios'\n",
    "                                  , index_col=0, parse_dates=True)\n",
    "\n",
    "precios_hoteles.index = pd.PeriodIndex(precios_hoteles.index, freq='M')"
   ]
  },
  {
   "cell_type": "code",
   "execution_count": null,
   "id": "f6553b85",
   "metadata": {
    "scrolled": true
   },
   "outputs": [],
   "source": [
    "# Comparación de metodología de relleno de missing values\n",
    "\n",
    "y = precios_hoteles.copy()\n",
    "y.index = y.index.to_timestamp()\n",
    "y = y.interpolate(method='polynomial', order=2)\n",
    "z = precios_hoteles.copy().fillna(method='ffill')\n",
    "\n",
    "fig, axs = plt.subplots(3, 1,figsize=(18,13))\n",
    "\n",
    "precios_hoteles.plot(ax=axs[0], color='#000000')\n",
    "axs[0].set_title('Índice de precios hoteleros')\n",
    "axs[0].legend().set_visible(False)\n",
    "\n",
    "y.iloc[:64].plot(ax=axs[1], color='#000000')\n",
    "y.iloc[63:67].plot(ax=axs[1], color='r')\n",
    "y.iloc[66:].plot(ax=axs[1], color='#000000')\n",
    "axs[1].set_title('Método \"interpolate()\" de pandas')\n",
    "axs[1].legend().set_visible(False)\n",
    "\n",
    "z.iloc[:64].plot(ax=axs[2], color='#000000')\n",
    "z.iloc[63:67].plot(ax=axs[2], color='r')\n",
    "z.iloc[66:].plot(ax=axs[2], color='#000000')\n",
    "axs[2].set_title('Método \"ffill\" de pandas')\n",
    "axs[2].legend().set_visible(False)\n",
    "\n",
    "plt.figtext(.82, .07, 'Fuente: IECA', fontsize=12, fontstyle='normal', color='k')\n",
    "plt.figtext(.82, .05, 'Elaboración propia', fontsize=12, fontstyle='normal', color='k')\n",
    "plt.figtext(.10, .05, 'Figura P.1: Comparación de relleno de valores nulos'\n",
    "            , fontsize=16, fontstyle='italic', color='k')\n",
    "\n",
    "###################\n",
    "# GUARDAR GRÁFICO #\n",
    "###################\n",
    "plt.savefig('Gráficos/Prolegómenos/grafico11.png', dpi=1200)\n",
    "\n",
    "plt.show()"
   ]
  },
  {
   "cell_type": "markdown",
   "id": "62e795bb",
   "metadata": {},
   "source": [
    "Como podemos observar en la figura 2.1, el método \"*interpolate()*\" usa una aproximación cuadrática, mientras que el método \"*ffill()*\", utiliza una aproximación lineal, dónde claramente, la primera parece rellenar correctamente la continuidad y estacionalidad del pasado de la serie sobre el índice de precios hoteleros."
   ]
  },
  {
   "cell_type": "markdown",
   "id": "6760931c",
   "metadata": {},
   "source": [
    "<a id='Esquema3'>1.3. Método de extracción de la estacionalidad</a>\n",
    "\n",
    "El método de desestacionalización ha sido el \"*STL*\" desarrollado en 1990 por dos estadísticos (R. B. Cleveland., 1990), el cual es capaz de filtrar la serie extrayendo la tendencia, estacionalidad y residuos. Dicho método tiene aplicaciones para cualquier tipo de serie temporal de distinto tipo de longitud, así como la no pérdida de datos por delante y por detras de la misma serie. Ésta tiene una aplicación muy sencilla con una librería en Python."
   ]
  },
  {
   "cell_type": "markdown",
   "id": "c0ca183e",
   "metadata": {},
   "source": [
    "___"
   ]
  }
 ],
 "metadata": {
  "kernelspec": {
   "display_name": "Python 3 (ipykernel)",
   "language": "python",
   "name": "python3"
  },
  "language_info": {
   "codemirror_mode": {
    "name": "ipython",
    "version": 3
   },
   "file_extension": ".py",
   "mimetype": "text/x-python",
   "name": "python",
   "nbconvert_exporter": "python",
   "pygments_lexer": "ipython3",
   "version": "3.9.13"
  }
 },
 "nbformat": 4,
 "nbformat_minor": 5
}
