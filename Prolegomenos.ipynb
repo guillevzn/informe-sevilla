{
 "cells": [
  {
   "cell_type": "markdown",
   "id": "537bb634",
   "metadata": {},
   "source": [
    "<hr>"
   ]
  },
  {
   "cell_type": "markdown",
   "id": "7231ee08",
   "metadata": {},
   "source": [
    "<img src=\"https://www.upo.es/cms1/export/sites/upo/comunicacion/imagenes/mic-upo-descargas/Marca-horizontal_azul1.jpg\" width=922 height=640.5/>"
   ]
  },
  {
   "cell_type": "markdown",
   "id": "1cf42f0d",
   "metadata": {},
   "source": [
    "<h1><center>TRABAJO DE FIN DE GRADO</center></h1>"
   ]
  },
  {
   "cell_type": "markdown",
   "id": "056236de",
   "metadata": {},
   "source": [
    "<center><h1 style=\"font-weight: normal;\">Informe de Coyuntura del Municipio de Sevilla</h1></center>"
   ]
  },
  {
   "cell_type": "markdown",
   "id": "9520d828",
   "metadata": {},
   "source": [
    " <pre>\n",
    "\n",
    "\n",
    "\n",
    "\n",
    "</pre>"
   ]
  },
  {
   "cell_type": "markdown",
   "id": "9d4bf582",
   "metadata": {},
   "source": [
    "<b>Autor:</b> D. Guillermo Vizcaíno Román"
   ]
  },
  {
   "cell_type": "markdown",
   "id": "662fdb8a",
   "metadata": {},
   "source": [
    "<b>Tutor:</b> D. Daniel Oto-Peralías"
   ]
  },
  {
   "cell_type": "markdown",
   "id": "0eb71fc9",
   "metadata": {},
   "source": [
    " <pre>\n",
    "\n",
    "\n",
    "\n",
    "\n",
    "</pre>"
   ]
  },
  {
   "cell_type": "markdown",
   "id": "4263a657",
   "metadata": {},
   "source": [
    "<center><b>Grado en Análisis Económico</b></center>"
   ]
  },
  {
   "cell_type": "markdown",
   "id": "a38766da",
   "metadata": {},
   "source": [
    "<center>Facultad de Ciencias Empresariales</center>"
   ]
  },
  {
   "cell_type": "markdown",
   "id": "be59ec2f",
   "metadata": {},
   "source": [
    "<center>Universidad Pablo de Olavide</center>"
   ]
  },
  {
   "cell_type": "markdown",
   "id": "efc49b2b",
   "metadata": {},
   "source": [
    "<center>Curso académico: 2022/2023</center>"
   ]
  },
  {
   "cell_type": "markdown",
   "id": "9965e134",
   "metadata": {},
   "source": [
    "<div style=\"text-align: right\">Sevilla, octubre de 2022</div>"
   ]
  },
  {
   "cell_type": "code",
   "execution_count": 1,
   "id": "bcacde50",
   "metadata": {
    "scrolled": true
   },
   "outputs": [],
   "source": [
    "import dataframe_image as dfi\n",
    "import pandas as pd\n",
    "import numpy as np\n",
    "import matplotlib\n",
    "import matplotlib.pyplot as plt\n",
    "import matplotlib.ticker as mtick\n",
    "\n",
    "from tabulate import tabulate\n",
    "\n",
    "# Varios módulos de statsmodels\n",
    "import statsmodels.api as sm\n",
    "\n",
    "# Dividir la serie temporal: tendencia, estacionalidad y residuos\n",
    "from statsmodels.tsa.seasonal import seasonal_decompose\n",
    "\n",
    "# Autocorrelación\n",
    "from statsmodels.graphics.tsaplots import plot_acf\n",
    "\n",
    "# Autocorrelación parcial\n",
    "from statsmodels.graphics.tsaplots import plot_pacf\n",
    "\n",
    "# Test Dickey-Fuller\n",
    "from statsmodels.tsa.stattools import adfuller\n",
    "\n",
    "\n",
    "datos = r'C:/Users/guill/OneDrive - Universidad Pablo de Olavide de Sevilla/Universidad/Asignaturas/Cuarto Curso/Trabajo Fin de Grado/Python/Datos/'\n",
    "\n",
    "plt.style.use('bmh')\n",
    "%matplotlib inline"
   ]
  },
  {
   "cell_type": "code",
   "execution_count": 2,
   "id": "2ad32576",
   "metadata": {
    "scrolled": true
   },
   "outputs": [
    {
     "data": {
      "application/javascript": [
       "IPython.OutputArea.prototype._should_scroll = function(lines) {\n",
       "    return false;\n",
       "}\n"
      ],
      "text/plain": [
       "<IPython.core.display.Javascript object>"
      ]
     },
     "metadata": {},
     "output_type": "display_data"
    }
   ],
   "source": [
    "%%javascript\n",
    "IPython.OutputArea.prototype._should_scroll = function(lines) {\n",
    "    return false;\n",
    "}"
   ]
  },
  {
   "cell_type": "code",
   "execution_count": 3,
   "id": "a99d23f4",
   "metadata": {
    "scrolled": true
   },
   "outputs": [
    {
     "data": {
      "text/html": [
       "\n",
       "<style>\n",
       ".output {\n",
       "    display: flex;\n",
       "    align-items: center;\n",
       "    text-align: center;\n",
       "}\n",
       "</style>\n"
      ],
      "text/plain": [
       "<IPython.core.display.HTML object>"
      ]
     },
     "metadata": {},
     "output_type": "display_data"
    }
   ],
   "source": [
    "from IPython.core.display import HTML\n",
    "display(HTML(\"\"\"\n",
    "<style>\n",
    ".output {\n",
    "    display: flex;\n",
    "    align-items: center;\n",
    "    text-align: center;\n",
    "}\n",
    "</style>\n",
    "\"\"\"))"
   ]
  },
  {
   "cell_type": "markdown",
   "id": "3a3c7ef6",
   "metadata": {},
   "source": [
    "<hr>"
   ]
  },
  {
   "cell_type": "markdown",
   "id": "appointed-parts",
   "metadata": {},
   "source": [
    "*Índice*"
   ]
  },
  {
   "cell_type": "markdown",
   "id": "8d6334b9",
   "metadata": {},
   "source": [
    "1. [Resumen e introducción](#Resumen)\n",
    "<pre>\n",
    "</pre>\n",
    "\n",
    "2. [Esquema general de la metodologia](#Esquema)\n",
    "    \n",
    "    2.1. [Programación y definición de funciones](#Esquema1)\n",
    "    \n",
    "    2.2. [Relleno de valores perdidos o no disponibles](#Esquema2)\n",
    "<pre>\n",
    "</pre>\n",
    "\n",
    "3. [Sector empresarial](#Empresas)\n",
    "    \n",
    "    3.1. [Número de empresas total y por actividades](#Empresas1)\n",
    "    \n",
    "    3.2. [Análisis y predicciones futuras](#Empresas2)\n",
    "<pre>\n",
    "</pre>\n",
    "\n",
    "4. [Turismo](#Turismo)\n",
    "    \n",
    "    4.1. [Turismo nacional y extranjero](#Turismo1)\n",
    "    \n",
    "    4.2. [Evolución de las percnotaciones](#Turismo2)\n",
    "    \n",
    "    4.3. [Análisis y predicciones futuras](#Turismo3)\n",
    "<pre>\n",
    "</pre>\n",
    "\n",
    "5. [Mercado laboral](#Trabajo)\n",
    "    \n",
    "    5.1. [Afiliaciones a la Seguridad Social](#Trabajo1)\n",
    "    \n",
    "    5.2. [Contratos registrados](#Trabajo2)\n",
    "    \n",
    "    5.3. [Tasa de actividad, ocupación, desempleo y temporalidad](#Trabajo3)\n",
    "    \n",
    "    5.4. [Índices de movilidad](#Trabajo4)\n",
    "    \n",
    "    5.5. [Análisis y predicciones futuras](#Trabajo5)\n",
    "<pre>\n",
    "</pre>\n",
    "\n",
    "6. [Evolución de los Índices de Precios](#Precios)\n",
    "    \n",
    "    6.1. [Inflación](#Precios1)\n",
    "    \n",
    "    6.2. [Precios hoteleros](#Precios2)\n",
    "    \n",
    "    6.3. [Análisis y predicciones futuras](#Precios3)\n",
    "<pre>\n",
    "</pre>\n",
    "\n",
    "7. [Conclusiones](#Conclusiones)\n",
    "<pre>\n",
    "</pre>\n",
    "\n",
    "8. [Bibliografía y fuentes](#Bibliografia)"
   ]
  },
  {
   "cell_type": "code",
   "execution_count": 4,
   "id": "bffce8a1",
   "metadata": {},
   "outputs": [],
   "source": [
    "######################################\n",
    "# DEFINIMOS FUNCIONES MÁS NECESARIAS #\n",
    "######################################"
   ]
  },
  {
   "cell_type": "code",
   "execution_count": 5,
   "id": "ef35d7d6",
   "metadata": {},
   "outputs": [],
   "source": [
    "##################################################\n",
    "# FUNCIÓN DESESTACIONALIZAR TRIMESTRAL Y MENSUAL #\n",
    "##################################################\n",
    "\n",
    "def deses(dataframe):\n",
    "    if dataframe.index.dtype == 'period[Q-DEC]':\n",
    "        dataframe.index = dataframe.index.to_timestamp()                      # Creamos el DataFrame para alojar\n",
    "        deses_Q = pd.DataFrame()                                              # los datos. Tenemos que hacer un loop\n",
    "        for i in range(len(list(dataframe.columns))):                         # sobre todas las columnas ya que\n",
    "            x = seasonal_decompose(dataframe.iloc[:, i])                      # 'seasonal_decompose' solo trabaja\n",
    "            x.seasonal[x.seasonal.isna()] = 0                                 # con 'arrays'. Nos quedamos con la\n",
    "            x.resid[x.resid.isna()] = 0\n",
    "            deses_Q.insert(i, list(dataframe.columns)[i], x.trend)            # tendencia y fijamos el índice correcto.\n",
    "        deses_Q = deses_Q.dropna()\n",
    "        deses_Q.index = pd.PeriodIndex(deses_Q.index, freq='Q')\n",
    "        dataframe.index = pd.PeriodIndex(dataframe.index, freq='Q')           # Devolvemos a su estado el índice\n",
    "        return deses_Q\n",
    "    \n",
    "    if dataframe.index.dtype == 'period[M]':\n",
    "        dataframe.index = dataframe.index.to_timestamp() \n",
    "        deses_M = pd.DataFrame()\n",
    "        for i in range(len(list(dataframe.columns))):\n",
    "            x = seasonal_decompose(dataframe.iloc[:, i])\n",
    "            x.seasonal[x.seasonal.isna()] = 0\n",
    "            x.resid[x.resid.isna()] = 0\n",
    "            deses_M.insert(i, list(dataframe.columns)[i], x.trend)\n",
    "        deses_M = deses_M.dropna()\n",
    "        deses_M.index = pd.PeriodIndex(deses_M.index, freq='M')\n",
    "        dataframe.index = pd.PeriodIndex(dataframe.index, freq='M')\n",
    "        return deses_M\n"
   ]
  },
  {
   "cell_type": "code",
   "execution_count": 6,
   "id": "4a13b84e",
   "metadata": {},
   "outputs": [],
   "source": [
    "################################################\n",
    "# FUNCIÓN TASA DE VARIACIÓN MENSUAL/TRIMESTRAL #\n",
    "################################################\n",
    "\n",
    "def tv(dataframe):\n",
    "    tasa_variacion = (dataframe/dataframe.shift(1) - 1).dropna()                            # Fórmula: (y(t)/y(t-1)-1)\n",
    "    return tasa_variacion                                                                   # eliminamos datos vacíos\n",
    "\n",
    "\n",
    "#######################################\n",
    "# FUNCIÓN TASA DE VARIACIÓN INTERNUAL #\n",
    "#######################################\n",
    "\n",
    "def tv_anual(dataframe):\n",
    "    if dataframe.index.dtype == 'period[M]':                                                # Primero indentificamos el tipo\n",
    "        tasa_variacion_anual1 = (dataframe/dataframe.shift(12) - 1).iloc[11::12,:].dropna() # de periodo del Dataframe.\n",
    "        tasa_variacion_anual1.index = pd.PeriodIndex(tasa_variacion_anual1.index, freq='Y') # Calculamos la tasa de variación:\n",
    "        return tasa_variacion_anual1                                                        # (y(t)/y(t-12)-1) / (y(t)/y(t-4)-1)\n",
    "    if dataframe.index.dtype == 'period[Q-DEC]':                                            # y establecemos el periodo anual\n",
    "        tasa_variacion_anual2 = (dataframe/dataframe.shift(4) - 1).iloc[3::4,:].dropna() \n",
    "        tasa_variacion_anual2.index = pd.PeriodIndex(tasa_variacion_anual2.index, freq='Y')\n",
    "        return tasa_variacion_anual2\n"
   ]
  },
  {
   "cell_type": "code",
   "execution_count": 7,
   "id": "7ae491e4",
   "metadata": {},
   "outputs": [],
   "source": [
    "##################################\n",
    "# TRIMESTRALIZAR DATOS MENSUALES #\n",
    "##################################\n",
    "\n",
    "def trimes(dataframe, freq):\n",
    "    # Suma\n",
    "    if freq == 's':\n",
    "        dataframe.index = dataframe.index.to_timestamp()\n",
    "        dataframe_Q = dataframe.resample('Q').sum()\n",
    "        dataframe_Q.index = pd.PeriodIndex(dataframe_Q.index, freq='Q')\n",
    "        dataframe.index = pd.PeriodIndex(dataframe.index, freq='M')\n",
    "        return dataframe_Q\n",
    "\n",
    "    # Media\n",
    "    if freq == 'm':\n",
    "        dataframe.index = dataframe.index.to_timestamp()\n",
    "        dataframe_Q = dataframe.resample('Q').mean()\n",
    "        dataframe_Q.index = pd.PeriodIndex(dataframe_Q.index, freq='Q')\n",
    "        dataframe.index = pd.PeriodIndex(dataframe.index, freq='M')\n",
    "        return dataframe_Q\n",
    "\n",
    "    # Relleno para anuales\n",
    "    if freq == 'r':\n",
    "        dataframe.index = dataframe.index.to_timestamp()\n",
    "        dataframe_Q = dataframe.resample('Q').ffill()\n",
    "        dataframe_Q.index = pd.PeriodIndex(dataframe_Q.index, freq='Q')\n",
    "        dataframe.index = pd.PeriodIndex(dataframe.index, freq='Y')\n",
    "        return dataframe_Q"
   ]
  },
  {
   "cell_type": "code",
   "execution_count": 8,
   "id": "b66989d3",
   "metadata": {},
   "outputs": [],
   "source": [
    "####################\n",
    "# DISEÑO DE TABLAS #\n",
    "####################\n",
    "\n",
    "cell_hover = {\n",
    "    'selector': 'td:hover',\n",
    "    'props': [('background-color', '#ffffb3')]\n",
    "}\n",
    "index_names = {\n",
    "    'selector': '.index_name',\n",
    "    'props': 'font-style: italic; color: darkgrey; font-weight:normal;'\n",
    "}\n",
    "headers = {\n",
    "    'selector': 'th:not(.index_name)',\n",
    "    'props': 'background-color: #40466e; color: white;'\n",
    "}"
   ]
  },
  {
   "cell_type": "markdown",
   "id": "aba85a50",
   "metadata": {},
   "source": [
    "<hr>"
   ]
  },
  {
   "cell_type": "markdown",
   "id": "based-david",
   "metadata": {},
   "source": [
    "> <a id='Resumen'>1. Resumen e introducción</a>\n",
    "\n",
    "La realización de un Informe Coyuntural es de vital importancia para el conocimiento de la situación socioeconómica de, en este caso, un municpio. En este texto revisaremos diversos aspectos sobre el municpio de Sevilla y distintas variables temporales económicas así como el número de empresas registradas, el turismo y la situación del mercado laboral en el municpio, entre otras.\n",
    "\n",
    "El municipio de Sevilla es la capital de la provincia homónima, así como de la Comunidad de Anadalucía. Esta es la cuarta ciudad con mayor población de España, siendo históricamente un centro económico durante la Edad Media y Moderna, gracias a la navegabilidad del río Guadalquivir.\n",
    "\n",
    "Su población, tal y como vemos en la tabla 1.1, es actualmente de aproximadamente 684 mil personas aproximadamente, siendo el área metropolitana de más del doble."
   ]
  },
  {
   "cell_type": "code",
   "execution_count": 9,
   "id": "ignored-surname",
   "metadata": {
    "scrolled": true
   },
   "outputs": [],
   "source": [
    "#############\n",
    "# POBLACIÓN #\n",
    "#############\n",
    "\n",
    "\n",
    "# POBLACIÓN POR GRUPOS DE EDAD\n",
    "poblacion_edad = pd.read_excel(datos + 'Población/poblacion_edad.xls', 'Edad', index_col=0, parse_dates=True)\n",
    "poblacion_edad.index = pd.PeriodIndex(poblacion_edad.index, freq='Y')\n",
    "\n",
    "\n",
    "# POBLACIÓN POR GRUPOS DE SEXO\n",
    "poblacion_sexo = pd.read_excel(datos + 'Población/poblacion_sexo.xls', 'Sexo', index_col=0, parse_dates=True)\n",
    "poblacion_sexo.index = pd.PeriodIndex(poblacion_sexo.index, freq='Y')\n",
    "\n",
    "\n",
    "# UNIMOS AMBOS DATAFRAMES\n",
    "poblacion = pd.DataFrame()\n",
    "\n",
    "poblacion.insert(0, 'Área metropolitana', poblacion_edad['Área metropolitana'])\n",
    "poblacion.insert(0, 'Total', poblacion_edad['Total'])\n",
    "poblacion.insert(0, 'Mujeres', poblacion_sexo['Mujeres']/poblacion_edad['Total'])\n",
    "poblacion.insert(0, 'Hombres', poblacion_sexo['Hombres']/poblacion_edad['Total'])\n",
    "poblacion.insert(0, 'De 65 y más años', poblacion_edad['De 65 y más años']/poblacion_edad['Total'])\n",
    "poblacion.insert(0, 'De 45 a 64 años', poblacion_edad['De 45 a 64 años']/poblacion_edad['Total'])\n",
    "poblacion.insert(0, 'De 30 a 44 años', poblacion_edad['De 30 a 44 años']/poblacion_edad['Total'])\n",
    "poblacion.insert(0, 'De 15 a 29 años', poblacion_edad['De 15 a 29 años']/poblacion_edad['Total'])\n",
    "poblacion.insert(0, 'De 0 a 14 años', poblacion_edad['De 0 a 14 años']/poblacion_edad['Total'])\n",
    "\n",
    "\n",
    "# POBLACIÖN TRIMESTRAL (PARA CÁLCULOS DEL MERCADO LABORAL)\n",
    "poblacion_Q = trimes(poblacion, 'r')"
   ]
  },
  {
   "cell_type": "code",
   "execution_count": 10,
   "id": "217bc2d7",
   "metadata": {},
   "outputs": [
    {
     "data": {
      "text/html": [
       "<style type=\"text/css\">\n",
       "#T_aaf6a td:hover {\n",
       "  background-color: #ffffb3;\n",
       "}\n",
       "#T_aaf6a .index_name {\n",
       "  font-style: italic;\n",
       "  color: darkgrey;\n",
       "  font-weight: normal;\n",
       "}\n",
       "#T_aaf6a th:not(.index_name) {\n",
       "  background-color: #40466e;\n",
       "  color: white;\n",
       "}\n",
       "#T_aaf6a caption {\n",
       "  caption-side: bottom;\n",
       "  font-size: 1.25em;\n",
       "}\n",
       "</style>\n",
       "<table id=\"T_aaf6a\">\n",
       "  <caption>Tabla 1.1: Distribución de la población por edades, total y metropolitana</caption>\n",
       "  <thead>\n",
       "    <tr>\n",
       "      <th class=\"blank level0\" >&nbsp;</th>\n",
       "      <th id=\"T_aaf6a_level0_col0\" class=\"col_heading level0 col0\" >De 0 a 14 años</th>\n",
       "      <th id=\"T_aaf6a_level0_col1\" class=\"col_heading level0 col1\" >De 15 a 29 años</th>\n",
       "      <th id=\"T_aaf6a_level0_col2\" class=\"col_heading level0 col2\" >De 30 a 44 años</th>\n",
       "      <th id=\"T_aaf6a_level0_col3\" class=\"col_heading level0 col3\" >De 45 a 64 años</th>\n",
       "      <th id=\"T_aaf6a_level0_col4\" class=\"col_heading level0 col4\" >De 65 y más años</th>\n",
       "      <th id=\"T_aaf6a_level0_col5\" class=\"col_heading level0 col5\" >Hombres</th>\n",
       "      <th id=\"T_aaf6a_level0_col6\" class=\"col_heading level0 col6\" >Mujeres</th>\n",
       "      <th id=\"T_aaf6a_level0_col7\" class=\"col_heading level0 col7\" >Total</th>\n",
       "      <th id=\"T_aaf6a_level0_col8\" class=\"col_heading level0 col8\" >Área metropolitana</th>\n",
       "    </tr>\n",
       "  </thead>\n",
       "  <tbody>\n",
       "    <tr>\n",
       "      <th id=\"T_aaf6a_level0_row0\" class=\"row_heading level0 row0\" >2001</th>\n",
       "      <td id=\"T_aaf6a_row0_col0\" class=\"data row0 col0\" >15.05%</td>\n",
       "      <td id=\"T_aaf6a_row0_col1\" class=\"data row0 col1\" >24.65%</td>\n",
       "      <td id=\"T_aaf6a_row0_col2\" class=\"data row0 col2\" >23.18%</td>\n",
       "      <td id=\"T_aaf6a_row0_col3\" class=\"data row0 col3\" >22.00%</td>\n",
       "      <td id=\"T_aaf6a_row0_col4\" class=\"data row0 col4\" >15.12%</td>\n",
       "      <td id=\"T_aaf6a_row0_col5\" class=\"data row0 col5\" >47.74%</td>\n",
       "      <td id=\"T_aaf6a_row0_col6\" class=\"data row0 col6\" >52.26%</td>\n",
       "      <td id=\"T_aaf6a_row0_col7\" class=\"data row0 col7\" >702 520</td>\n",
       "      <td id=\"T_aaf6a_row0_col8\" class=\"data row0 col8\" >1 358 465</td>\n",
       "    </tr>\n",
       "    <tr>\n",
       "      <th id=\"T_aaf6a_level0_row1\" class=\"row_heading level0 row1\" >2011</th>\n",
       "      <td id=\"T_aaf6a_row1_col0\" class=\"data row1 col0\" >15.02%</td>\n",
       "      <td id=\"T_aaf6a_row1_col1\" class=\"data row1 col1\" >17.78%</td>\n",
       "      <td id=\"T_aaf6a_row1_col2\" class=\"data row1 col2\" >24.73%</td>\n",
       "      <td id=\"T_aaf6a_row1_col3\" class=\"data row1 col3\" >25.43%</td>\n",
       "      <td id=\"T_aaf6a_row1_col4\" class=\"data row1 col4\" >17.04%</td>\n",
       "      <td id=\"T_aaf6a_row1_col5\" class=\"data row1 col5\" >47.57%</td>\n",
       "      <td id=\"T_aaf6a_row1_col6\" class=\"data row1 col6\" >52.43%</td>\n",
       "      <td id=\"T_aaf6a_row1_col7\" class=\"data row1 col7\" >703 021</td>\n",
       "      <td id=\"T_aaf6a_row1_col8\" class=\"data row1 col8\" >1 514 311</td>\n",
       "    </tr>\n",
       "    <tr>\n",
       "      <th id=\"T_aaf6a_level0_row2\" class=\"row_heading level0 row2\" >2021</th>\n",
       "      <td id=\"T_aaf6a_row2_col0\" class=\"data row2 col0\" >14.28%</td>\n",
       "      <td id=\"T_aaf6a_row2_col1\" class=\"data row2 col1\" >15.93%</td>\n",
       "      <td id=\"T_aaf6a_row2_col2\" class=\"data row2 col2\" >20.57%</td>\n",
       "      <td id=\"T_aaf6a_row2_col3\" class=\"data row2 col3\" >29.36%</td>\n",
       "      <td id=\"T_aaf6a_row2_col4\" class=\"data row2 col4\" >19.86%</td>\n",
       "      <td id=\"T_aaf6a_row2_col5\" class=\"data row2 col5\" >47.40%</td>\n",
       "      <td id=\"T_aaf6a_row2_col6\" class=\"data row2 col6\" >52.60%</td>\n",
       "      <td id=\"T_aaf6a_row2_col7\" class=\"data row2 col7\" >684 234</td>\n",
       "      <td id=\"T_aaf6a_row2_col8\" class=\"data row2 col8\" >1 539 396</td>\n",
       "    </tr>\n",
       "  </tbody>\n",
       "</table>\n"
      ],
      "text/plain": [
       "<pandas.io.formats.style.Styler at 0x1584560cb20>"
      ]
     },
     "execution_count": 10,
     "metadata": {},
     "output_type": "execute_result"
    }
   ],
   "source": [
    "tabla_poblacion = poblacion.iloc[3::10,:].style\n",
    "\n",
    "tabla_poblacion.format(thousands=\" \", formatter={\n",
    "    'De 0 a 14 años':'{:.2%}',\n",
    "    'De 15 a 29 años':'{:.2%}',\n",
    "    'De 30 a 44 años':'{:.2%}',\n",
    "    'De 45 a 64 años':'{:.2%}',\n",
    "    'De 65 y más años':'{:.2%}',\n",
    "    'Hombres':'{:.2%}',\n",
    "    'Mujeres':'{:.2%}',\n",
    "    'Total':'{:,.0f}'})\n",
    "\n",
    "tabla_poblacion.format_index(lambda v: v.strftime(\"%Y\"))\n",
    "\n",
    "tabla_poblacion.set_table_styles([cell_hover, index_names, headers])\n",
    "\n",
    "tabla_poblacion.set_caption('Tabla 1.1: Distribución de la población por edades, total y metropolitana')\\\n",
    " .set_table_styles([{\n",
    "     'selector': 'caption',\n",
    "     'props': 'caption-side: bottom; font-size:1.25em;'\n",
    " }], overwrite=False)"
   ]
  },
  {
   "cell_type": "code",
   "execution_count": 11,
   "id": "5850b23e",
   "metadata": {},
   "outputs": [],
   "source": [
    "#################\n",
    "# GUARDAR TABLA #\n",
    "#################\n",
    "#dfi.export(tabla_poblacion, 'Tablas/Población/tabla11.png')"
   ]
  },
  {
   "cell_type": "markdown",
   "id": "8766f271",
   "metadata": {},
   "source": [
    "La población total desde el 2001 ha disminuído, hasta en casi 20.000 personas; sin embargo el área metropolitana ha observado un incremento de la población bastante sustancial. Refiriéndonos a la distribución poblacional por edades vemos que aquellos grupos de menos de 44 años han disminuído respecto al resto, sin embargo los grupos de edades mayores cada vez toman más representación de la población. Esto no se dista mucho de la realidad del resto de ciudades españolas."
   ]
  },
  {
   "cell_type": "code",
   "execution_count": 12,
   "id": "671ae284",
   "metadata": {
    "scrolled": false
   },
   "outputs": [
    {
     "data": {
      "image/png": "[encoded data removed]",
      "text/plain": [
       "<Figure size 1800x1300 with 3 Axes>"
      ]
     },
     "metadata": {},
     "output_type": "display_data"
    }
   ],
   "source": [
    "fig, axs = plt.subplots(3, 1,figsize=(18,13))\n",
    "\n",
    "poblacion['Total'].plot(ax=axs[0], color='#000000')\n",
    "axs[0].set_title('Evolución de la población total')\n",
    "\n",
    "poblacion['Hombres'].plot(ax=axs[1], label='Hombres')\n",
    "poblacion['Mujeres'].plot(ax=axs[1], label='Mujeres')\n",
    "axs[1].set_title('Evolución de la población por sexo')\n",
    "axs[1].set(ylabel='Población')\n",
    "axs[1].yaxis.set_major_formatter(mtick.PercentFormatter(1))\n",
    "axs[1].legend(loc='upper left')\n",
    "\n",
    "axs[2].bar(list(poblacion_edad.index.year), poblacion_edad['De 0 a 14 años'], label='De 0 a 14 años')\n",
    "axs[2].bar(list(poblacion_edad.index.year), poblacion_edad['De 15 a 29 años'], label='De 15 a 29 años', bottom=poblacion_edad['De 0 a 14 años'])\n",
    "axs[2].bar(list(poblacion_edad.index.year), poblacion_edad['De 30 a 44 años'], label='De 30 a 44 años', bottom=poblacion_edad['De 0 a 14 años']+poblacion_edad['De 15 a 29 años'])\n",
    "axs[2].bar(list(poblacion_edad.index.year), poblacion_edad['De 45 a 64 años'], label='De 45 a 64 años', bottom=poblacion_edad['De 0 a 14 años']+poblacion_edad['De 15 a 29 años']+poblacion_edad['De 30 a 44 años'])\n",
    "axs[2].bar(list(poblacion_edad.index.year), poblacion_edad['De 65 y más años'], label='De 65 y más años', bottom=poblacion_edad['De 0 a 14 años']+poblacion_edad['De 15 a 29 años']+poblacion_edad['De 30 a 44 años']+poblacion_edad['De 45 a 64 años'])\n",
    "axs[2].set_title('Evolución de la población por edades')\n",
    "axs[2].legend(loc='upper left')\n",
    "\n",
    "plt.figtext(.85, .07, 'Fuente: IECA', fontsize=12, color='dimgrey')\n",
    "plt.figtext(.10, .07, 'Figura 1.1: Población del municipio de Sevilla', fontsize=16, color='dimgrey')\n",
    "\n",
    "###################\n",
    "# GUARDAR GRÁFICO #\n",
    "###################\n",
    "# plt.savefig('Gráficos/Población/grafico11.png', dpi=1200)\n",
    "\n",
    "plt.show()"
   ]
  },
  {
   "cell_type": "markdown",
   "id": "a4f4092f",
   "metadata": {
    "scrolled": true
   },
   "source": [
    "En la figura 1.1 podemos ver gráficamente la evolución a lo largo de los años la población en el municipio, siendo lo más marcado el estancamiento, y posterior descenso de la población en el municipio, pudiendo deberse al crecimiento de las ciudades de alrededor que conforman el área metropolitana, actuándo de ciudades dormitorio.\n",
    "\n",
    "La distribución por edades tal y como habíamos mencionado anteriormente ha ido creciendo en los grupos de edades mayores. En el último gráfico de la figura 1.1 podemos observarlo de una forma más intuitiva, donde el grupo de 45 a 64 años cada vez es mayor."
   ]
  },
  {
   "cell_type": "markdown",
   "id": "7ef09ab9",
   "metadata": {},
   "source": [
    "___"
   ]
  },
  {
   "cell_type": "markdown",
   "id": "expanded-newsletter",
   "metadata": {},
   "source": [
    "> <a id='Esquema'>2. Esquema general de la metodologia</a>\n",
    "\n",
    "A lo largo de esta sección definiremos las principales prácticas de análisis que hemos usado para la realización de este informe. También mencionar las fuentes de datos han sido principalmente el *Instituto de Estadística y Cartografía de Anadalucía*, entre algunas otras como el *Observatorio ARGOS*, del Servicio Andaluz de Empleo."
   ]
  },
  {
   "cell_type": "markdown",
   "id": "934ff98e",
   "metadata": {},
   "source": [
    "<a id='Esquema1'>2.1. Programación y definición de funciones</a>\n",
    "\n",
    "El principal recurso usado es el lenguaje de programación *Python*, así como distintas librerías de uso libre, tanto para la representación de tablas, como otras que sirven para el cálculo estadístico y de modelaje. El procedimiento ha sido siempre de una forma estructurada dónde definíamos diversas funciones de uso común a lo largo de todas las secciones, como la desestacionalización de las series, el cálculo de las tasas de variación, entre otras. El objetivo de ésto ha sido simplificar y poder poner en práctica herramientas disponibles, las cuales me serán de gran utilidad para futuros análisis.\n",
    "\n",
    "Otro recurso ha sido el entorno de programación, que en *Python* nos encontramos numerosos entornos (a diferencia de Stata, MATLAB, etc.) que para nosotros el más correcto ha sido *Jupyter Notebook*, un entorno con base en HTML el cuál nos permite poder realizar una estructura de informe al mismo tiempo que estamos programando y realizando los distintos análisis."
   ]
  },
  {
   "cell_type": "markdown",
   "id": "60be6de5",
   "metadata": {},
   "source": [
    "<a id='Esquema2'>2.2. Relleno de valores perdidos o no disponibles</a>\n",
    "\n",
    "Para el relleno de valores perdidos debemos tener en cuenta varios factores, pero entre ello dos resaltan sobre el resto. Primero sería qué cantidad de valores nulos o perdidos tenemos, ya que si contamos con una serie temporal, la cual la mitad de sus valores no los disponemos, tal vez no podamos hacer nada respecto a ello; ya que, independiente de cuál método usemos no encontraremos una forma de rellenarlo de forma eficaz.\n",
    "\n",
    "Lo segundo sería qué método de rellenado vamos a usar, existen diversas formas y librerías dentro de *Python* donde podemos encontrar métodos lineales, no lineales, por la media o distintos estadísticos sobre el pasado o incluso futuro (si hay valores previos o futuros al valor perdido) sobre la misma serie.\n",
    "\n",
    "Nosotros vamos a centrarnos en dos de ellos, el lineal y el cudrático para ver cual es la diferencia a nivel visual."
   ]
  },
  {
   "cell_type": "code",
   "execution_count": 13,
   "id": "amazing-socket",
   "metadata": {
    "scrolled": true
   },
   "outputs": [],
   "source": [
    "# IMPORTAMOS PRECIOS HOTELEROS PARA PODER IDENTIFICAR CUAL ES EL MEJOR MÉTODO DE RELLENO DE NaNs\n",
    "\n",
    "precios_hoteles = pd.read_excel(datos + 'Turismo/indice_precios_hoteleros_provincial.xlsx', 'Precios'\n",
    "                                  , index_col=0, parse_dates=True)\n",
    "\n",
    "precios_hoteles.index = pd.PeriodIndex(precios_hoteles.index, freq='M')"
   ]
  },
  {
   "cell_type": "code",
   "execution_count": 14,
   "id": "f6553b85",
   "metadata": {
    "scrolled": true
   },
   "outputs": [
    {
     "ename": "ValueError",
     "evalue": "zero-size array to reduction operation fmin which has no identity",
     "output_type": "error",
     "traceback": [
      "\u001b[1;31m---------------------------------------------------------------------------\u001b[0m",
      "\u001b[1;31mValueError\u001b[0m                                Traceback (most recent call last)",
      "Input \u001b[1;32mIn [14]\u001b[0m, in \u001b[0;36m<cell line: 11>\u001b[1;34m()\u001b[0m\n\u001b[0;32m      8\u001b[0m fig, axs \u001b[38;5;241m=\u001b[39m plt\u001b[38;5;241m.\u001b[39msubplots(\u001b[38;5;241m3\u001b[39m, \u001b[38;5;241m1\u001b[39m,figsize\u001b[38;5;241m=\u001b[39m(\u001b[38;5;241m18\u001b[39m,\u001b[38;5;241m13\u001b[39m))\n\u001b[0;32m     10\u001b[0m precios_hoteles\u001b[38;5;241m.\u001b[39miloc[:\u001b[38;5;241m136\u001b[39m]\u001b[38;5;241m.\u001b[39mplot(ax\u001b[38;5;241m=\u001b[39maxs[\u001b[38;5;241m0\u001b[39m], color\u001b[38;5;241m=\u001b[39m\u001b[38;5;124m'\u001b[39m\u001b[38;5;124m#000000\u001b[39m\u001b[38;5;124m'\u001b[39m)\n\u001b[1;32m---> 11\u001b[0m \u001b[43mprecios_hoteles\u001b[49m\u001b[38;5;241;43m.\u001b[39;49m\u001b[43miloc\u001b[49m\u001b[43m[\u001b[49m\u001b[38;5;241;43m136\u001b[39;49m\u001b[43m:\u001b[49m\u001b[38;5;241;43m138\u001b[39;49m\u001b[43m]\u001b[49m\u001b[38;5;241;43m.\u001b[39;49m\u001b[43mplot\u001b[49m\u001b[43m(\u001b[49m\u001b[43max\u001b[49m\u001b[38;5;241;43m=\u001b[39;49m\u001b[43maxs\u001b[49m\u001b[43m[\u001b[49m\u001b[38;5;241;43m0\u001b[39;49m\u001b[43m]\u001b[49m\u001b[43m,\u001b[49m\u001b[43m \u001b[49m\u001b[43mcolor\u001b[49m\u001b[38;5;241;43m=\u001b[39;49m\u001b[38;5;124;43m'\u001b[39;49m\u001b[38;5;124;43mr\u001b[39;49m\u001b[38;5;124;43m'\u001b[39;49m\u001b[43m)\u001b[49m\n\u001b[0;32m     12\u001b[0m precios_hoteles\u001b[38;5;241m.\u001b[39miloc[\u001b[38;5;241m138\u001b[39m:]\u001b[38;5;241m.\u001b[39mplot(ax\u001b[38;5;241m=\u001b[39maxs[\u001b[38;5;241m0\u001b[39m], color\u001b[38;5;241m=\u001b[39m\u001b[38;5;124m'\u001b[39m\u001b[38;5;124m#000000\u001b[39m\u001b[38;5;124m'\u001b[39m)\n\u001b[0;32m     13\u001b[0m axs[\u001b[38;5;241m0\u001b[39m]\u001b[38;5;241m.\u001b[39mset_title(\u001b[38;5;124m'\u001b[39m\u001b[38;5;124mÍndice de precios hoteleros\u001b[39m\u001b[38;5;124m'\u001b[39m)\n",
      "File \u001b[1;32mC:\\ProgramData\\Anaconda\\lib\\site-packages\\pandas\\plotting\\_core.py:972\u001b[0m, in \u001b[0;36mPlotAccessor.__call__\u001b[1;34m(self, *args, **kwargs)\u001b[0m\n\u001b[0;32m    969\u001b[0m             label_name \u001b[38;5;241m=\u001b[39m label_kw \u001b[38;5;129;01mor\u001b[39;00m data\u001b[38;5;241m.\u001b[39mcolumns\n\u001b[0;32m    970\u001b[0m             data\u001b[38;5;241m.\u001b[39mcolumns \u001b[38;5;241m=\u001b[39m label_name\n\u001b[1;32m--> 972\u001b[0m \u001b[38;5;28;01mreturn\u001b[39;00m plot_backend\u001b[38;5;241m.\u001b[39mplot(data, kind\u001b[38;5;241m=\u001b[39mkind, \u001b[38;5;241m*\u001b[39m\u001b[38;5;241m*\u001b[39mkwargs)\n",
      "File \u001b[1;32mC:\\ProgramData\\Anaconda\\lib\\site-packages\\pandas\\plotting\\_matplotlib\\__init__.py:71\u001b[0m, in \u001b[0;36mplot\u001b[1;34m(data, kind, **kwargs)\u001b[0m\n\u001b[0;32m     69\u001b[0m         kwargs[\u001b[38;5;124m\"\u001b[39m\u001b[38;5;124max\u001b[39m\u001b[38;5;124m\"\u001b[39m] \u001b[38;5;241m=\u001b[39m \u001b[38;5;28mgetattr\u001b[39m(ax, \u001b[38;5;124m\"\u001b[39m\u001b[38;5;124mleft_ax\u001b[39m\u001b[38;5;124m\"\u001b[39m, ax)\n\u001b[0;32m     70\u001b[0m plot_obj \u001b[38;5;241m=\u001b[39m PLOT_CLASSES[kind](data, \u001b[38;5;241m*\u001b[39m\u001b[38;5;241m*\u001b[39mkwargs)\n\u001b[1;32m---> 71\u001b[0m \u001b[43mplot_obj\u001b[49m\u001b[38;5;241;43m.\u001b[39;49m\u001b[43mgenerate\u001b[49m\u001b[43m(\u001b[49m\u001b[43m)\u001b[49m\n\u001b[0;32m     72\u001b[0m plot_obj\u001b[38;5;241m.\u001b[39mdraw()\n\u001b[0;32m     73\u001b[0m \u001b[38;5;28;01mreturn\u001b[39;00m plot_obj\u001b[38;5;241m.\u001b[39mresult\n",
      "File \u001b[1;32mC:\\ProgramData\\Anaconda\\lib\\site-packages\\pandas\\plotting\\_matplotlib\\core.py:329\u001b[0m, in \u001b[0;36mMPLPlot.generate\u001b[1;34m(self)\u001b[0m\n\u001b[0;32m    327\u001b[0m \u001b[38;5;28mself\u001b[39m\u001b[38;5;241m.\u001b[39m_compute_plot_data()\n\u001b[0;32m    328\u001b[0m \u001b[38;5;28mself\u001b[39m\u001b[38;5;241m.\u001b[39m_setup_subplots()\n\u001b[1;32m--> 329\u001b[0m \u001b[38;5;28;43mself\u001b[39;49m\u001b[38;5;241;43m.\u001b[39;49m\u001b[43m_make_plot\u001b[49m\u001b[43m(\u001b[49m\u001b[43m)\u001b[49m\n\u001b[0;32m    330\u001b[0m \u001b[38;5;28mself\u001b[39m\u001b[38;5;241m.\u001b[39m_add_table()\n\u001b[0;32m    331\u001b[0m \u001b[38;5;28mself\u001b[39m\u001b[38;5;241m.\u001b[39m_make_legend()\n",
      "File \u001b[1;32mC:\\ProgramData\\Anaconda\\lib\\site-packages\\pandas\\plotting\\_matplotlib\\core.py:1243\u001b[0m, in \u001b[0;36mLinePlot._make_plot\u001b[1;34m(self)\u001b[0m\n\u001b[0;32m   1238\u001b[0m \u001b[38;5;28;01mif\u001b[39;00m \u001b[38;5;28mself\u001b[39m\u001b[38;5;241m.\u001b[39m_is_ts_plot():\n\u001b[0;32m   1239\u001b[0m \n\u001b[0;32m   1240\u001b[0m     \u001b[38;5;66;03m# reset of xlim should be used for ts data\u001b[39;00m\n\u001b[0;32m   1241\u001b[0m     \u001b[38;5;66;03m# TODO: GH28021, should find a way to change view limit on xaxis\u001b[39;00m\n\u001b[0;32m   1242\u001b[0m     lines \u001b[38;5;241m=\u001b[39m get_all_lines(ax)\n\u001b[1;32m-> 1243\u001b[0m     left, right \u001b[38;5;241m=\u001b[39m \u001b[43mget_xlim\u001b[49m\u001b[43m(\u001b[49m\u001b[43mlines\u001b[49m\u001b[43m)\u001b[49m\n\u001b[0;32m   1244\u001b[0m     ax\u001b[38;5;241m.\u001b[39mset_xlim(left, right)\n",
      "File \u001b[1;32mC:\\ProgramData\\Anaconda\\lib\\site-packages\\pandas\\plotting\\_matplotlib\\tools.py:489\u001b[0m, in \u001b[0;36mget_xlim\u001b[1;34m(lines)\u001b[0m\n\u001b[0;32m    487\u001b[0m \u001b[38;5;28;01mfor\u001b[39;00m line \u001b[38;5;129;01min\u001b[39;00m lines:\n\u001b[0;32m    488\u001b[0m     x \u001b[38;5;241m=\u001b[39m line\u001b[38;5;241m.\u001b[39mget_xdata(orig\u001b[38;5;241m=\u001b[39m\u001b[38;5;28;01mFalse\u001b[39;00m)\n\u001b[1;32m--> 489\u001b[0m     left \u001b[38;5;241m=\u001b[39m \u001b[38;5;28mmin\u001b[39m(\u001b[43mnp\u001b[49m\u001b[38;5;241;43m.\u001b[39;49m\u001b[43mnanmin\u001b[49m\u001b[43m(\u001b[49m\u001b[43mx\u001b[49m\u001b[43m)\u001b[49m, left)\n\u001b[0;32m    490\u001b[0m     right \u001b[38;5;241m=\u001b[39m \u001b[38;5;28mmax\u001b[39m(np\u001b[38;5;241m.\u001b[39mnanmax(x), right)\n\u001b[0;32m    491\u001b[0m \u001b[38;5;28;01mreturn\u001b[39;00m left, right\n",
      "File \u001b[1;32m<__array_function__ internals>:5\u001b[0m, in \u001b[0;36mnanmin\u001b[1;34m(*args, **kwargs)\u001b[0m\n",
      "File \u001b[1;32mC:\\ProgramData\\Anaconda\\lib\\site-packages\\numpy\\lib\\nanfunctions.py:319\u001b[0m, in \u001b[0;36mnanmin\u001b[1;34m(a, axis, out, keepdims)\u001b[0m\n\u001b[0;32m    315\u001b[0m     kwargs[\u001b[38;5;124m'\u001b[39m\u001b[38;5;124mkeepdims\u001b[39m\u001b[38;5;124m'\u001b[39m] \u001b[38;5;241m=\u001b[39m keepdims\n\u001b[0;32m    316\u001b[0m \u001b[38;5;28;01mif\u001b[39;00m \u001b[38;5;28mtype\u001b[39m(a) \u001b[38;5;129;01mis\u001b[39;00m np\u001b[38;5;241m.\u001b[39mndarray \u001b[38;5;129;01mand\u001b[39;00m a\u001b[38;5;241m.\u001b[39mdtype \u001b[38;5;241m!=\u001b[39m np\u001b[38;5;241m.\u001b[39mobject_:\n\u001b[0;32m    317\u001b[0m     \u001b[38;5;66;03m# Fast, but not safe for subclasses of ndarray, or object arrays,\u001b[39;00m\n\u001b[0;32m    318\u001b[0m     \u001b[38;5;66;03m# which do not implement isnan (gh-9009), or fmin correctly (gh-8975)\u001b[39;00m\n\u001b[1;32m--> 319\u001b[0m     res \u001b[38;5;241m=\u001b[39m np\u001b[38;5;241m.\u001b[39mfmin\u001b[38;5;241m.\u001b[39mreduce(a, axis\u001b[38;5;241m=\u001b[39maxis, out\u001b[38;5;241m=\u001b[39mout, \u001b[38;5;241m*\u001b[39m\u001b[38;5;241m*\u001b[39mkwargs)\n\u001b[0;32m    320\u001b[0m     \u001b[38;5;28;01mif\u001b[39;00m np\u001b[38;5;241m.\u001b[39misnan(res)\u001b[38;5;241m.\u001b[39many():\n\u001b[0;32m    321\u001b[0m         warnings\u001b[38;5;241m.\u001b[39mwarn(\u001b[38;5;124m\"\u001b[39m\u001b[38;5;124mAll-NaN slice encountered\u001b[39m\u001b[38;5;124m\"\u001b[39m, \u001b[38;5;167;01mRuntimeWarning\u001b[39;00m,\n\u001b[0;32m    322\u001b[0m                       stacklevel\u001b[38;5;241m=\u001b[39m\u001b[38;5;241m3\u001b[39m)\n",
      "\u001b[1;31mValueError\u001b[0m: zero-size array to reduction operation fmin which has no identity"
     ]
    },
    {
     "data": {
      "image/png": "[encoded data removed]",
      "text/plain": [
       "<Figure size 1800x1300 with 3 Axes>"
      ]
     },
     "metadata": {},
     "output_type": "display_data"
    }
   ],
   "source": [
    "# Comparación de metodología de relleno de missing values\n",
    "\n",
    "y = precios_hoteles.copy()\n",
    "y.index = y.index.to_timestamp()\n",
    "y = y.interpolate(method='polynomial', order=2)\n",
    "z = precios_hoteles.copy().fillna(method='ffill')\n",
    "\n",
    "fig, axs = plt.subplots(3, 1,figsize=(18,13))\n",
    "\n",
    "precios_hoteles.iloc[:136].plot(ax=axs[0], color='#000000')\n",
    "precios_hoteles.iloc[136:138].plot(ax=axs[0], color='r')\n",
    "precios_hoteles.iloc[138:].plot(ax=axs[0], color='#000000')\n",
    "axs[0].set_title('Índice de precios hoteleros')\n",
    "axs[0].legend().set_visible(False)\n",
    "\n",
    "y.iloc[:136].plot(ax=axs[1], color='#000000')\n",
    "y.iloc[135:139].plot(ax=axs[1], color='r')\n",
    "y.iloc[138:].plot(ax=axs[1], color='#000000')\n",
    "axs[1].set_title('Método \"interpolate()\" de pandas')\n",
    "axs[1].legend().set_visible(False)\n",
    "\n",
    "z.iloc[:136].plot(ax=axs[2], color='#000000')\n",
    "z.iloc[135:139].plot(ax=axs[2], color='r')\n",
    "z.iloc[138:].plot(ax=axs[2], color='#000000')\n",
    "axs[2].set_title('Método \"ffill\" de pandas')\n",
    "axs[2].legend().set_visible(False)\n",
    "\n",
    "plt.figtext(.85, .07, 'Fuente: IECA', fontsize=12, color='dimgrey')\n",
    "plt.figtext(.10, .07, 'Figura 2.1: Comparación de relleno de valores nulos', fontsize=16, color='dimgrey')\n",
    "\n",
    "###################\n",
    "# GUARDAR GRÁFICO #\n",
    "###################\n",
    "# plt.savefig('Gráficos/Metodología/grafico21.png', dpi=1200)\n",
    "\n",
    "plt.show()\n",
    "\n",
    "del y, z, precios_hoteles"
   ]
  },
  {
   "cell_type": "markdown",
   "id": "62e795bb",
   "metadata": {},
   "source": [
    "Como podemos observar en la figura 2.1, el método \"*interpolate()*\" usa una aproximación cuadrática, mientras que el método \"*ffill()*\", utiliza una aproximación lineal, dónde claramente, la primera parece rellenar correctamente la continuidad y estacionalidad del pasado de la serie sobre el índice de precios hoteleros."
   ]
  },
  {
   "cell_type": "markdown",
   "id": "c0ca183e",
   "metadata": {},
   "source": [
    "___"
   ]
  },
  {
   "cell_type": "markdown",
   "id": "secondary-decision",
   "metadata": {},
   "source": [
    "> <a id='Empresas'>3. Análisis del número de empresas</a>\n",
    "\n",
    "En esta sección trataremos de analizar número de empresas divididos actividades según CNAE-09, así como el Índice de Precios a nivel provincial (no se realiza a nivel municipal), el cual nos puede ayudar a mostrarnos la evolución de los posibles precios en el municpio de Sevilla.\n",
    "\n",
    "A través del número de empresas podremos observar como algunos sectores tienen más peso que otros y su posible crecimientos, siempre sin tener en cuenta los rendimientos de éstas por lo que no podremos saber más allá de los datos de los que disponemos."
   ]
  },
  {
   "cell_type": "code",
   "execution_count": null,
   "id": "143c2298",
   "metadata": {},
   "outputs": [],
   "source": [
    "###############################\n",
    "# EMPRESAS POR CÓDIGO CNAE-09 #\n",
    "###############################\n",
    "\n",
    "\n",
    "################################################################################################################################\n",
    "\n",
    "\n",
    "# IMPORTAMOS NÚMERO DE EMPRESAS (TRIMESTRAL)\n",
    "n_empresas = pd.read_excel(datos + 'Empresas/n_empresas_CNAE09.xls', 'Empresas', index_col=0, parse_dates=True)\n",
    "n_empresas.index = pd.PeriodIndex(n_empresas.index, freq='Q')                      # Convertimos a formato legible el índice\n",
    "\n",
    "\n",
    "# TASAS DE VARIACIÓN NÚMERO DE EMPRESAS\n",
    "tv_empresas = tv(n_empresas)\n",
    "\n",
    "\n",
    "# TASAS DE VARIACIÓN NÚMERO DE EMPRESAS ANUAL\n",
    "tv_empresas_anual = tv_anual(n_empresas)\n",
    "\n",
    "\n",
    "################################################################################################################################\n",
    "\n",
    "\n",
    "# NÚMERO DE EMPRESAS DESESTACIONALIZADO\n",
    "n_empresas_deses = deses(n_empresas)                                               # Utilizamos la función que\n",
    "                                                                                   # habíamos definido\n",
    "\n",
    "# TASA DE VARIACIÓN NÚMERO DE EMPRESAS DESESTACIONALIZADO\n",
    "tv_empresas_deses = tv(n_empresas_deses)\n",
    "                                                                                   # Para la tasa de variación anual\n",
    "                                                                                   # no hace falta desestacionalizar\n",
    "                                                                                   # no existe un factor estacional"
   ]
  },
  {
   "cell_type": "markdown",
   "id": "fc09e291",
   "metadata": {},
   "source": [
    "<a id='Empresas1'>3.1. Número de empresas total y por actividades</a>\n",
    "\n",
    "En esta sección veremos la evolución del número de empresas. Nuestro principal foco será observar que sectores de la economía sevillana pueden parecer indicar que están recuperándose de la crisis del COVID-19 y si éstas se encuentran en niveles antes de la crisis."
   ]
  },
  {
   "cell_type": "code",
   "execution_count": null,
   "id": "4207bb19",
   "metadata": {},
   "outputs": [],
   "source": [
    "# Tabla de empresas en los últimos años\n",
    "t_tv_empresas = tv_empresas_anual.iloc[6:, :].T.copy()\n",
    "t_tv_empresas.columns = [\"2018\", \"2019\", \"2020\", \"2021\"]\n",
    "\n",
    "\n",
    "tabla_tv_empresas = t_tv_empresas.style\n",
    "\n",
    "tabla_tv_empresas.format(formatter=\"{:.2%}\")\n",
    "\n",
    "tabla_tv_empresas.set_table_styles([cell_hover, index_names, headers])\n",
    "\n",
    "tabla_tv_empresas.set_caption('Tabla 3.1: Tasa de variación anual de empresas según código CNAE')\\\n",
    " .set_table_styles([{\n",
    "     'selector': 'caption',\n",
    "     'props': 'caption-side: bottom; font-size:1.25em;'\n",
    " }], overwrite=False)"
   ]
  },
  {
   "cell_type": "code",
   "execution_count": null,
   "id": "2757f19f",
   "metadata": {},
   "outputs": [],
   "source": [
    "#################\n",
    "# GUARDAR TABLA #\n",
    "#################\n",
    "#dfi.export(tabla_tv_empresas, 'Tablas/Empresas y precios/tabla31.png')"
   ]
  },
  {
   "cell_type": "markdown",
   "id": "ac1caffc",
   "metadata": {},
   "source": [
    "Tal y como vemos en la tabla 3.1, en los años previos a la crisis del COVID-19, el crecimiento anual del número de empresas totales ha sido positivo, no especialmente grande pero sí significativo. Los sectores económicos más relevantes serían la Agricultura, las Actividades artísticas, recreativas y de entretenimiento, así como la Construcción y Actividades Inmobiliarias.\n",
    "\n",
    "En el 2020 se observa como de forma general todos los sectores se vieron afectados por las restricciones, aunque se percibe en la última partida la creación de nuevas empresas por partes de los organismos públicos; así como otras industrias."
   ]
  },
  {
   "cell_type": "code",
   "execution_count": null,
   "id": "f39d2212",
   "metadata": {},
   "outputs": [],
   "source": [
    "# Número de empresas totales y desestacionalizado, con la tasa de variación trimestral y desestacionalizado,\n",
    "# y tasa de variación anual\n",
    "fig, axs = plt.subplots(3, 1,figsize=(18,13))\n",
    "\n",
    "n_empresas['Total'].plot(ax=axs[0], label='Serie normal')\n",
    "n_empresas_deses['Total'].plot(ax=axs[0], label='Serie desestacionalizada')\n",
    "axs[0].set_title('Evolución del número de empresas totales')\n",
    "axs[0].legend(loc='upper left')\n",
    "\n",
    "tv_empresas['Total'].plot(ax=axs[1])\n",
    "tv_empresas_deses['Total'].plot(ax=axs[1])\n",
    "axs[1].set_title('Tasa de variación trimestrales del número de empresas totales')\n",
    "axs[1].yaxis.set_major_formatter(mtick.PercentFormatter(1))\n",
    "\n",
    "tv_empresas_anual['Total'].plot(ax=axs[2])\n",
    "axs[2].set_title('Tasa de variación anuales del número de empresas totales')\n",
    "axs[2].yaxis.set_major_formatter(mtick.PercentFormatter(1))\n",
    "\n",
    "\n",
    "plt.figtext(.85, .07, 'Fuente: IECA', fontsize=12, color='dimgrey')\n",
    "plt.figtext(.10, .07, 'Figura 3.1: Evolución del número de empresas totales en el municipio de Sevilla'\n",
    "            , fontsize=16, color='dimgrey')\n",
    "\n",
    "###################\n",
    "# GUARDAR GRÁFICO #\n",
    "###################\n",
    "# plt.savefig('Gráficos/Empresas y precios/grafico31.png', dpi=1200)\n",
    "\n",
    "plt.show()"
   ]
  },
  {
   "cell_type": "markdown",
   "id": "38eff37e",
   "metadata": {},
   "source": [
    "Tal y como habíamos mencionado anteriormente, en la figura 3.1 seguimos observando como el crecimiento durante los últimos años del número de empresas en Sevilla había sido constante, siendo éste positivo a partir de la segunda mitad de 2013, donde ya se vería la recuperación de la crisis de 2011 en el muncipio.\n",
    "\n",
    "Los siguientes trimestres a la crisis se observa una aproximación a niveles previos a la crisis, incluso manteniendo un crecimiento aparentemente estable a partir de la segunda mitad del 2020.\n",
    "\n",
    "A continuación vamos a tratar de analizar la evolución para sectores que mantenían un número alto y estable de empresas a lo largo de los años que disponemos en la serie. Nos encontraríamos con sectores tales como: Comercio, Hostelería, Construcción y Actividades profesionales, científicas y técnicas."
   ]
  },
  {
   "cell_type": "code",
   "execution_count": null,
   "id": "d8c5d589",
   "metadata": {
    "scrolled": true
   },
   "outputs": [],
   "source": [
    "# Representamos variación número de empresas total y por industria\n",
    "fig, axs = plt.subplots(4, 1,figsize=(18,18))\n",
    "\n",
    "n_empresas['Comercio'].plot(ax=axs[0], label='Serie normal')\n",
    "n_empresas_deses['Comercio'].plot(ax=axs[0], label='Serie desestacionalizada')\n",
    "axs[0].set_title('Evolución del número de empresas de Comercio')\n",
    "axs[0].legend(loc='lower left')\n",
    "\n",
    "\n",
    "n_empresas['Hostelería'].plot(ax=axs[1])\n",
    "n_empresas_deses['Hostelería'].plot(ax=axs[1])\n",
    "axs[1].set_title('Evolución del número de empresas de Hostelería')\n",
    "\n",
    "n_empresas['Construcción'].plot(ax=axs[2])\n",
    "n_empresas_deses['Construcción'].plot(ax=axs[2])\n",
    "axs[2].set_title('Evolución del número de empresas de Construcción')\n",
    "\n",
    "n_empresas['Actividades profesionales, científicas y técnicas'].plot(ax=axs[3])\n",
    "n_empresas_deses['Actividades profesionales, científicas y técnicas'].plot(ax=axs[3])\n",
    "axs[3].set_title('Evolución del número de empresas de Actividades profesionales, científicas y técnicas')\n",
    "\n",
    "plt.figtext(.85, .07, 'Fuente: IECA', fontsize=12, color='dimgrey')\n",
    "plt.figtext(.10, .07, 'Figura 3.2: Evolución del número de empresas en distintos grupos en el municipio de Sevilla'\n",
    "            , fontsize=16, color='dimgrey')\n",
    "\n",
    "###################\n",
    "# GUARDAR GRÁFICO #\n",
    "###################\n",
    "# plt.savefig('Gráficos/Empresas y precios/grafico32.png', dpi=1200)\n",
    "\n",
    "plt.show()"
   ]
  },
  {
   "cell_type": "markdown",
   "id": "35f1af83",
   "metadata": {},
   "source": [
    "En la figura 3.2 observamos comportamientos parecidos así como contrarios. El grupo de la hostelería es e que más de dispersa del resto de sectores, donde en el año 2011 a 2012 desaparecieron alrededor de 500 empresas en un solo año, casi de manera instantánea. En el resto de sectores, durante ese mismo año crecieron, pero observándose una caída posteriormente, aunque más progresiva.\n",
    "\n",
    "Sectores como el Comercio o la Construcción no han podido recuperarse a niveles previos a la crisis de 2011, incluso antes de la crisis provocada por la pandemia. Las empresas dedicada a las actividades profesionales, científicas y técnicas, no sólo tuvieron un \"shock\" menor en el 2020, sino que crecieron rápidamente al siguiente año.\n",
    "\n",
    "Los sectores del Comercio, Hostelería y Construcción son sectores que en el municipio sevillano tienen una alta estacionalidad, no siendo una realidad muy distinta en el resto de España, y, especialmente Andalucía."
   ]
  },
  {
   "cell_type": "code",
   "execution_count": null,
   "id": "b1d835fa",
   "metadata": {},
   "outputs": [],
   "source": [
    "# Representamos variación número de empresas total y por industria desestacionalizado\n",
    "fig, axs = plt.subplots(2, 1,figsize=(18,10))\n",
    "\n",
    "tv_empresas['Comercio'].plot(ax=axs[0], label='Comercio')\n",
    "tv_empresas['Hostelería'].plot(ax=axs[0], label='Hostelería')\n",
    "tv_empresas['Construcción'].plot(ax=axs[0], label='Construcción')\n",
    "tv_empresas['Actividades profesionales, científicas y técnicas'].plot(ax=axs[0], label='Actividades profesionales, etc.')\n",
    "axs[0].set_title('Tasas de variación del número de empresas por grupos seleccionados')\n",
    "axs[0].legend(loc='upper left')\n",
    "\n",
    "tv_empresas_deses['Comercio'].plot(ax=axs[1], label='Comercio')\n",
    "tv_empresas_deses['Hostelería'].plot(ax=axs[1], label='Hostelería')\n",
    "tv_empresas_deses['Construcción'].plot(ax=axs[1], label='Construcción')\n",
    "tv_empresas_deses['Actividades profesionales, científicas y técnicas'].plot(ax=axs[1], label='Actividades profesionales, etc.')\n",
    "axs[1].set_title('Tasas de variación del número de empresas desestacionalizado por grupos seleccionados')\n",
    "axs[1].yaxis.set_major_formatter(mtick.PercentFormatter(1))\n",
    "\n",
    "plt.figtext(.85, .07, 'Fuente: IECA', fontsize=12, color='dimgrey')\n",
    "plt.figtext(.10, .07, 'Figura 3.3: Tasas de variación en distintos grupos de empresas en el municipio de Sevilla'\n",
    "            , fontsize=16, color='dimgrey')\n",
    "\n",
    "###################\n",
    "# GUARDAR GRÁFICO #\n",
    "###################\n",
    "# plt.savefig('Gráficos/Empresas y precios/grafico33.png', dpi=1200)\n",
    "\n",
    "plt.show()"
   ]
  },
  {
   "cell_type": "markdown",
   "id": "e5753be9",
   "metadata": {},
   "source": [
    "Observando las tasas de variaciones de los sectores que hemos analizado anteriormente, vemos en la figura 3.3, como todos los sectores han mantenido crecimientos muy similares, donde ya mencionamos antes la menor variabilidad del sector de las Actividades profesionales. La Construcción como vemos, es un sector que a lo largo de los periodos seleccionados parece tener cambios especialmente bruscos, respecto a los otros sectores representados."
   ]
  },
  {
   "cell_type": "markdown",
   "id": "d1856265",
   "metadata": {},
   "source": [
    "<a id='Empresas3'>3.2. Análisis y predicciones futuras</a>\n",
    "\n",
    "\n"
   ]
  },
  {
   "cell_type": "markdown",
   "id": "ac5bc681",
   "metadata": {},
   "source": [
    "**Predicción SARIMA**"
   ]
  },
  {
   "cell_type": "code",
   "execution_count": null,
   "id": "8d27c866",
   "metadata": {},
   "outputs": [],
   "source": [
    "# Variable objetivo\n",
    "varobj = n_empresas['Total'].copy()\n",
    "\n",
    "# Modelo SARIMA\n",
    "mod = sm.tsa.statespace.SARIMAX(endog=varobj, trend='c', order=(3,1,2), seasonal_order=(1,0,1,4)).fit()\n",
    "\n",
    "# Modelo y predicciones del número de empresas\n",
    "fig, axs = plt.subplots(2, 1,figsize=(18,13))\n",
    "\n",
    "varobj.plot(ax=axs[0], label='Serie original')\n",
    "mod.predict().iloc[1:].plot(ax=axs[0], label='Predicción modelo')\n",
    "axs[0].set_title('Modelo SARIMA')\n",
    "axs[0].legend(loc=\"upper left\")\n",
    "\n",
    "pd.concat([varobj, mod.get_forecast(steps=12).summary_frame()['mean'].iloc[:1]]).plot(x=axs[1])\n",
    "mod.get_forecast(steps=12).summary_frame()['mean'].plot(x=axs[1], style='--')\n",
    "axs[1].fill_between(mod.get_forecast(steps=12).summary_frame().index\n",
    "                    , mod.get_forecast(steps=12).summary_frame()['mean_ci_lower']\n",
    "                    , mod.get_forecast(steps=12).summary_frame()['mean_ci_upper']\n",
    "                    , color='k', alpha=0.05)\n",
    "axs[1].text(200, 20000, 'Desviación estándar relativa: ' + str(\"{0:.2%}\".format(((varobj.iloc[1:]-mod.predict().iloc[1:])**2).mean()**(1/2)/varobj.iloc[1:].mean())), bbox=dict(facecolor='lightgray', alpha=0.4, edgecolor='k'))\n",
    "axs[1].set_title('Predicción modelo')\n",
    "\n",
    "plt.figtext(.85, .07, 'Elaboración propia', fontsize=12, color='dimgrey')\n",
    "plt.figtext(.10, .07, 'Figura 3.4: Número de empresas y modelo SARIMA', fontsize=16, color='dimgrey')\n",
    "\n",
    "###################\n",
    "# GUARDAR GRÁFICO #\n",
    "###################\n",
    "# plt.savefig('Gráficos/Empresas y precios/grafico34.png', dpi=1200)\n",
    "\n",
    "plt.show()\n"
   ]
  },
  {
   "cell_type": "code",
   "execution_count": null,
   "id": "009ded1c",
   "metadata": {},
   "outputs": [],
   "source": [
    "del varobj"
   ]
  },
  {
   "cell_type": "markdown",
   "id": "2a761db7",
   "metadata": {},
   "source": []
  },
  {
   "cell_type": "markdown",
   "id": "46ec5953",
   "metadata": {},
   "source": [
    "___"
   ]
  },
  {
   "cell_type": "markdown",
   "id": "affiliated-dynamics",
   "metadata": {},
   "source": [
    "> <a id='Turismo'>4. Turismo</a>\n",
    "\n",
    "Texto"
   ]
  },
  {
   "cell_type": "code",
   "execution_count": null,
   "id": "24d375b0",
   "metadata": {
    "scrolled": true
   },
   "outputs": [],
   "source": [
    "###########################################################################\n",
    "# TURISMO NACIONAL, EXTRANJERO Y TOTAL: VIAJEROS Y PERCNOTACIONES TOTALES #\n",
    "###########################################################################\n",
    "\n",
    "\n",
    "################################################################################################################################\n",
    "\n",
    "\n",
    "# IMPORTAMOS LOS DATOS MENSUALES DEL TURISMO NACIONAL\n",
    "turismo_nacional = pd.read_excel(datos + 'Turismo/turismo.xlsx', 'Residentes en España', index_col=0, parse_dates=True)\n",
    "\n",
    "turismo_nacional.index = pd.PeriodIndex(turismo_nacional.index, freq='M')     # Pasamos a formato correcto el índice\n",
    "\n",
    "\n",
    "# IMPORTAMOS LOS DATOS MENSUALES DEL TURISMO INTERNACIONAL\n",
    "turismo_extranjero = pd.read_excel(datos + 'Turismo/turismo.xlsx', 'Residentes en el Extrajero', index_col=0, parse_dates=True)\n",
    "\n",
    "turismo_extranjero.index = pd.PeriodIndex(turismo_extranjero.index, freq='M') # Pasamos a formato correcto el índice\n",
    "\n",
    "\n",
    "# SUMAMOS AMBOS PARA CONSEGUIR EL TOTAL\n",
    "turismo = turismo_nacional + turismo_extranjero\n",
    "\n",
    "\n",
    "################################################################################################################################\n",
    "\n",
    "\n",
    "# PASAMOS A TRIMESTRAL\n",
    "# TURISMO NACIONAL\n",
    "turismo_nacional_Q = trimes(turismo_nacional, 's')\n",
    "\n",
    "# TURISMO INTERNACIONAL\n",
    "turismo_extranjero_Q = trimes(turismo_extranjero, 's')\n",
    "\n",
    "# TURISMO TOTAL\n",
    "turismo_Q = trimes(turismo, 's')\n",
    "\n",
    "\n",
    "################################################################################################################################\n",
    "\n",
    "\n",
    "# DESESTACIONALIZAMOS\n",
    "\n",
    "# DATOS MENSUALES\n",
    "turismo_nacional_deses = deses(turismo_nacional)\n",
    "\n",
    "turismo_extranjero_deses = deses(turismo_extranjero)\n",
    "\n",
    "turismo_deses = deses(turismo)\n",
    "\n",
    "\n",
    "# DATOS TRIMESTRALES\n",
    "turismo_nacional_deses_Q = deses(turismo_nacional_Q)\n",
    "\n",
    "turismo_extranjero_deses_Q = deses(turismo_extranjero_Q)\n",
    "\n",
    "turismo_deses_Q = deses(turismo_Q)\n",
    "\n",
    "\n",
    "################################################################################################################################\n",
    "\n",
    "# TASAS DE VARIACIÓN\n",
    "# MENSUAL\n",
    "tv_turismo_nacional = tv(turismo_nacional)\n",
    "\n",
    "tv_turismo_extranjero = tv(turismo_extranjero)\n",
    "\n",
    "tv_turismo = tv(turismo)\n",
    "\n",
    "# INTERANUAL\n",
    "tv_turismo_nacional_anual = tv_anual(turismo_nacional)\n",
    "\n",
    "tv_turismo_extranjero_anual = tv_anual(turismo_extranjero)\n",
    "\n",
    "tv_turismo_anual = tv_anual(turismo)\n",
    "\n",
    "# TRIMESTRAL\n",
    "tv_turismo_nacional_Q = tv(turismo_nacional_Q)\n",
    "\n",
    "tv_turismo_extranjero_Q = tv(turismo_extranjero_Q)\n",
    "\n",
    "tv_turismo_Q = tv(turismo_Q)\n",
    "\n",
    "\n",
    "# DESESTACIONALIZADO\n",
    "# Mensual\n",
    "tv_turismo_nacional_deses = tv(turismo_nacional_deses)\n",
    "\n",
    "tv_turismo_extranjero_deses = tv(turismo_extranjero_deses)\n",
    "\n",
    "tv_turismo_deses = tv(turismo_deses)\n",
    "\n",
    "# Trimestral\n",
    "tv_turismo_nacional_deses_Q = tv(turismo_nacional_deses_Q)\n",
    "\n",
    "tv_turismo_extranjero_deses_Q = tv(turismo_extranjero_deses_Q)\n",
    "\n",
    "tv_turismo_deses_Q = tv(turismo_deses_Q)\n"
   ]
  },
  {
   "cell_type": "code",
   "execution_count": null,
   "id": "cf4a8633",
   "metadata": {},
   "outputs": [],
   "source": [
    "# Tabla de evolución de la inflación de hoteles y turistas\n",
    "\n",
    "tabla_turismo = tv_turismo_anual.iloc[12:].style\n",
    "\n",
    "tabla_turismo.format(thousands=\" \", formatter={\n",
    "    'Viajeros':'{:.2%}',\n",
    "    'Pernoctaciones':'{:.2%}'})\n",
    "\n",
    "tabla_turismo.format_index(lambda v: v.strftime(\"%Y\"))\n",
    "\n",
    "tabla_turismo.set_table_styles([cell_hover, index_names, headers])\n",
    "\n",
    "tabla_turismo.set_caption(\"Tabla 4.1: Tasa de variación anual del turismo y precios hoteleros\")\\\n",
    " .set_table_styles([{\n",
    "     'selector': 'caption',\n",
    "     'props': 'caption-side: bottom; font-size:1.25em;'\n",
    " }], overwrite=False)"
   ]
  },
  {
   "cell_type": "code",
   "execution_count": null,
   "id": "17e8a6c2",
   "metadata": {},
   "outputs": [],
   "source": [
    "#################\n",
    "# GUARDAR TABLA #\n",
    "#################\n",
    "#dfi.export(tabla_turismo, 'Tablas/Turismo/tabla41.png')"
   ]
  },
  {
   "cell_type": "markdown",
   "id": "72f0820f",
   "metadata": {},
   "source": [
    "<a id='Turismo1'>4.1. Turismo nacional y extranjero</a>"
   ]
  },
  {
   "cell_type": "code",
   "execution_count": null,
   "id": "b71c06e6",
   "metadata": {},
   "outputs": [],
   "source": [
    "# Representamos turismo nacional, extranjero y total\n",
    "fig, axs = plt.subplots(2, 1,figsize=(18,13))\n",
    "\n",
    "turismo_nacional_deses['Viajeros'].plot(ax=axs[0], label='Turismo nacional desestacionalizado')\n",
    "turismo_extranjero_deses['Viajeros'].plot(ax=axs[0], label='Turismo extranjero desestacionalizado')\n",
    "axs[0].set_title('Evolución del turismo nacional y extranjero')\n",
    "axs[0].legend(loc=\"upper left\")\n",
    "\n",
    "tv_turismo_nacional_deses['Viajeros'].plot(ax=axs[1], label='Turismo nacional desestacionalizado')\n",
    "tv_turismo_extranjero_deses['Viajeros'].plot(ax=axs[1], label='Turismo extranjero desestacionalizado')\n",
    "axs[1].set_title('Evolución de la tasa de variación del turismo nacional y extranjero')\n",
    "axs[1].yaxis.set_major_formatter(mtick.PercentFormatter(1))\n",
    "\n",
    "\n",
    "plt.figtext(.85, .07, 'Fuente: IECA', fontsize=12, color='dimgrey')\n",
    "plt.figtext(.10, .07, 'Figura 4.1: Turismo nacional y extranjero en el municipio de Sevilla', fontsize=16, color='dimgrey')\n",
    "\n",
    "###################\n",
    "# GUARDAR GRÁFICO #\n",
    "###################\n",
    "# plt.savefig('Gráficos/Turismo/grafico41.png', dpi=1200)\n",
    "\n",
    "plt.show()"
   ]
  },
  {
   "cell_type": "markdown",
   "id": "66e567b6",
   "metadata": {},
   "source": [
    "<a id='Turismo2'>4.2. Evolución de las percnotaciones</a>"
   ]
  },
  {
   "cell_type": "code",
   "execution_count": null,
   "id": "05b482c8",
   "metadata": {},
   "outputs": [],
   "source": []
  },
  {
   "cell_type": "markdown",
   "id": "63b7b9da",
   "metadata": {},
   "source": [
    "<a id='Turismo3'>4.3. Análisis y predicciones futuras</a>"
   ]
  },
  {
   "cell_type": "markdown",
   "id": "4d6fd933",
   "metadata": {},
   "source": [
    "**Predicción SARIMA**"
   ]
  },
  {
   "cell_type": "code",
   "execution_count": null,
   "id": "5db8d24f",
   "metadata": {},
   "outputs": [],
   "source": [
    "# Variable objetivo\n",
    "varobj = turismo['Viajeros'].copy()\n",
    "\n",
    "# Modelo SARIMA\n",
    "mod = sm.tsa.statespace.SARIMAX(endog=varobj, trend='c', order=(3,0,2), seasonal_order=(1,0,1,12)).fit()\n",
    "\n",
    "# Modelo y predicciones del número de empresas\n",
    "fig, axs = plt.subplots(2, 1,figsize=(18,13))\n",
    "\n",
    "varobj.plot(ax=axs[0], label='Serie original')\n",
    "mod.predict().iloc[1:].plot(ax=axs[0], label='Predicción modelo')\n",
    "axs[0].set_title('Modelo SARIMA')\n",
    "axs[0].legend(loc=\"upper left\")\n",
    "\n",
    "pd.concat([varobj, mod.get_forecast(steps=24).summary_frame()['mean'].iloc[:1]]).plot(x=axs[1])\n",
    "mod.get_forecast(steps=24).summary_frame()['mean'].plot(x=axs[1], style='--')\n",
    "axs[1].fill_between(mod.get_forecast(steps=24).summary_frame().index\n",
    "                    , mod.get_forecast(steps=24).summary_frame()['mean_ci_lower']\n",
    "                    , mod.get_forecast(steps=24).summary_frame()['mean_ci_upper']\n",
    "                    , color='k', alpha=0.05)\n",
    "axs[1].text(425, 10000, 'Desviación estándar relativa: ' + str(\"{0:.2%}\".format(((varobj.iloc[1:]-mod.predict().iloc[1:])**2).mean()**(1/2)/varobj.iloc[1:].mean())), bbox=dict(facecolor='lightgray', alpha=0.4, edgecolor='k'))\n",
    "axs[1].set_title('Predicción modelo')\n",
    "\n",
    "plt.figtext(.85, .07, 'Elaboración propia', fontsize=12, color='dimgrey')\n",
    "plt.figtext(.10, .07, 'Figura 4.4: Número de turistas y modelo SARIMA', fontsize=16, color='dimgrey')\n",
    "\n",
    "###################\n",
    "# GUARDAR GRÁFICO #\n",
    "###################\n",
    "# plt.savefig('Gráficos/Análisis/grafico44.png', dpi=1200)\n",
    "\n",
    "plt.show()\n"
   ]
  },
  {
   "cell_type": "code",
   "execution_count": null,
   "id": "602f1c84",
   "metadata": {},
   "outputs": [],
   "source": [
    "del varobj"
   ]
  },
  {
   "cell_type": "markdown",
   "id": "640c311b",
   "metadata": {},
   "source": [
    "___"
   ]
  },
  {
   "cell_type": "markdown",
   "id": "hybrid-frederick",
   "metadata": {},
   "source": [
    "> <a id='Trabajo'>5. Análisis de las variables en el mercado laboral</a>"
   ]
  },
  {
   "cell_type": "code",
   "execution_count": null,
   "id": "3744171d",
   "metadata": {
    "scrolled": true
   },
   "outputs": [],
   "source": [
    "############################\n",
    "# AFILIACIONES POR RÉGIMEN #\n",
    "############################\n",
    "\n",
    "\n",
    "################################################################################################################################\n",
    "\n",
    "\n",
    "# AMBOS SEXOS\n",
    "afiliaciones_por_regimen = pd.read_excel(datos + 'Mercado de Trabajo/Afiliaciones/afiliaciones_por_regimen.xlsx'\n",
    "                                         , 'Ambos sexos', index_col=0, parse_dates=True)\n",
    "afiliaciones_por_regimen.index = pd.PeriodIndex(afiliaciones_por_regimen.index, freq='Q')\n",
    "\n",
    "# HOMBRES\n",
    "afiliaciones_por_regimen_hombres = pd.read_excel(datos + 'Mercado de Trabajo/Afiliaciones/afiliaciones_por_regimen.xlsx'\n",
    "                                                 , 'Hombres', index_col=0, parse_dates=True)\n",
    "afiliaciones_por_regimen_hombres.index = pd.PeriodIndex(afiliaciones_por_regimen_hombres.index, freq='Q')\n",
    "\n",
    "\n",
    "# MUJERES\n",
    "afiliaciones_por_regimen_mujeres = pd.read_excel(datos + 'Mercado de Trabajo/Afiliaciones/afiliaciones_por_regimen.xlsx'\n",
    "                                                 , \"Mujeres\", index_col=0, parse_dates=True)\n",
    "afiliaciones_por_regimen_mujeres.index = pd.PeriodIndex(afiliaciones_por_regimen_mujeres.index, freq='Q')\n",
    "\n",
    "\n",
    "################################################################################################################################\n",
    "\n",
    "# DESESTACIONALIZAMOS\n",
    "# AMBOS SEXOS\n",
    "afiliaciones_por_regimen_deses = deses(afiliaciones_por_regimen)\n",
    "\n",
    "# HOMBRES\n",
    "afiliaciones_por_regimen_hombres_deses = deses(afiliaciones_por_regimen_hombres)\n",
    "\n",
    "# MUJERES\n",
    "afiliaciones_por_regimen_mujeres_deses = deses(afiliaciones_por_regimen_mujeres)\n",
    "\n",
    "\n",
    "################################################################################################################################\n",
    "\n",
    "# TASAS DE VARIACIÓN\n",
    "\n",
    "# INTERNUAL\n",
    "# AMBOS SEXOS\n",
    "tv_afiliaciones_por_regimen_anual = tv_anual(afiliaciones_por_regimen)\n",
    "\n",
    "# HOMBRES\n",
    "tv_afiliaciones_por_regimen_hombres_anual = tv_anual(afiliaciones_por_regimen_hombres)\n",
    "\n",
    "# MUJERES\n",
    "tv_afiliaciones_por_regimen_mujeres_anual = tv_anual(afiliaciones_por_regimen_mujeres)\n",
    "\n",
    "\n",
    "# TRIMESTRAL\n",
    "# AMBOS SEXOS\n",
    "tv_afiliaciones_por_regimen = tv(afiliaciones_por_regimen)\n",
    "\n",
    "# HOMBRES\n",
    "tv_afiliaciones_por_regimen_hombres = tv(afiliaciones_por_regimen_hombres)\n",
    "\n",
    "# MUJERES\n",
    "tv_afiliaciones_por_regimen_mujeres = tv(afiliaciones_por_regimen_mujeres)\n",
    "\n",
    "\n",
    "# TRIMESTRAL DESESTACIONALIZADO\n",
    "tv_afiliaciones_por_regimen_deses = tv(afiliaciones_por_regimen_deses)\n",
    "\n",
    "# HOMBRES\n",
    "tv_afiliaciones_por_regimen_hombres_deses = tv(afiliaciones_por_regimen_hombres_deses)\n",
    "\n",
    "# MUJERES\n",
    "tv_afiliaciones_por_regimen_mujeres_deses = tv(afiliaciones_por_regimen_mujeres_deses)\n"
   ]
  },
  {
   "cell_type": "code",
   "execution_count": null,
   "id": "6d2e015c",
   "metadata": {},
   "outputs": [],
   "source": [
    "######################################\n",
    "# AFILIACIONES POR RAMA DE ACTIVIDAD #\n",
    "######################################\n",
    "\n",
    "\n",
    "################################################################################################################################\n",
    "\n",
    "\n",
    "# AMBOS SEXOS\n",
    "afiliaciones_por_actividad = pd.read_excel(datos + \"Mercado de Trabajo/Afiliaciones/afiliaciones_por_rama_de_actividad.xlsx\"\n",
    "                                           , \"Ambos sexos\", index_col=0, parse_dates=True)\n",
    "afiliaciones_por_actividad.index = pd.PeriodIndex(afiliaciones_por_actividad.index, freq='Q')\n",
    "\n",
    "# HOMBRES\n",
    "afiliaciones_por_actividad_hombres = pd.read_excel(datos + \"Mercado de Trabajo/Afiliaciones/afiliaciones_por_rama_de_actividad.xlsx\"\n",
    "                                                   , \"Hombres\", index_col=0, parse_dates=True)\n",
    "afiliaciones_por_actividad_hombres.index = pd.PeriodIndex(afiliaciones_por_actividad_hombres.index, freq='Q')\n",
    "\n",
    "# MUJERES\n",
    "afiliaciones_por_actividad_mujeres = pd.read_excel(datos + \"Mercado de Trabajo/Afiliaciones/afiliaciones_por_rama_de_actividad.xlsx\"\n",
    "                                                   , \"Mujeres\", index_col=0, parse_dates=True)\n",
    "afiliaciones_por_actividad_mujeres.index = pd.PeriodIndex(afiliaciones_por_actividad_mujeres.index, freq='Q')\n",
    "\n",
    "\n",
    "################################################################################################################################\n",
    "\n",
    "# DESESTACIONALIZAMOS\n",
    "# AMBOS SEXOS\n",
    "afiliaciones_por_actividad_deses = deses(afiliaciones_por_actividad)\n",
    "\n",
    "# HOMBRES\n",
    "afiliaciones_por_actividad_hombres_deses = deses(afiliaciones_por_actividad_hombres)\n",
    "\n",
    "# MUJERES\n",
    "afiliaciones_por_actividad_mujeres_deses = deses(afiliaciones_por_actividad_mujeres)\n",
    "\n",
    "\n",
    "################################################################################################################################\n",
    "\n",
    "# TASAS DE VARIACIÓN\n",
    "\n",
    "# INTERNUAL\n",
    "# AMBOS SEXOS\n",
    "tv_afiliaciones_por_actividad_anual = tv_anual(afiliaciones_por_actividad)\n",
    "\n",
    "# HOMBRES\n",
    "tv_afiliaciones_por_actividad_hombres_anual = tv_anual(afiliaciones_por_actividad_hombres)\n",
    "\n",
    "# MUJERES\n",
    "tv_afiliaciones_por_actividad_mujeres_anual = tv_anual(afiliaciones_por_actividad_mujeres)\n",
    "\n",
    "\n",
    "# TRIMESTRAL\n",
    "# AMBOS SEXOS\n",
    "tv_afiliaciones_por_actividad = tv(afiliaciones_por_actividad)\n",
    "\n",
    "# HOMBRES\n",
    "tv_afiliaciones_por_actividad_hombres = tv(afiliaciones_por_actividad_hombres)\n",
    "\n",
    "# MUJERES\n",
    "tv_afiliaciones_por_actividad_mujeres = tv(afiliaciones_por_actividad_mujeres)\n",
    "\n",
    "\n",
    "# TRIMESTRAL DESESTACIONALIZADO\n",
    "tv_afiliaciones_por_actividad_deses = tv(afiliaciones_por_actividad_deses)\n",
    "\n",
    "# HOMBRES\n",
    "tv_afiliaciones_por_actividad_hombres_deses = tv(afiliaciones_por_actividad_hombres_deses)\n",
    "\n",
    "# MUJERES\n",
    "tv_afiliaciones_por_actividad_mujeres_deses = tv(afiliaciones_por_actividad_mujeres_deses)\n"
   ]
  },
  {
   "cell_type": "code",
   "execution_count": null,
   "id": "4d720465",
   "metadata": {},
   "outputs": [],
   "source": [
    "#########################\n",
    "# CONTRATOS REGISTRADOS #\n",
    "#########################\n",
    "\n",
    "\n",
    "################################################################################################################################\n",
    "\n",
    "\n",
    "# AMBOS SEXOS\n",
    "contratos_registrados = pd.read_excel(datos + \"Mercado de Trabajo/contratos_registrados.xlsx\"\n",
    "                                      , \"Ambos sexos\", index_col=0, parse_dates=True)\n",
    "\n",
    "contratos_registrados.index = pd.PeriodIndex(contratos_registrados.index, freq='M')\n",
    "\n",
    "# HOMBRES\n",
    "contratos_registrados_hombres = pd.read_excel(datos + \"Mercado de Trabajo/contratos_registrados.xlsx\"\n",
    "                                              , \"Hombres\", index_col=0, parse_dates=True)\n",
    "\n",
    "contratos_registrados_hombres.index = pd.PeriodIndex(contratos_registrados_hombres.index, freq='M')\n",
    "\n",
    "# MUJERES\n",
    "contratos_registrados_mujeres = pd.read_excel(datos + \"Mercado de Trabajo/contratos_registrados.xlsx\"\n",
    "                                              , \"Mujeres\", index_col=0, parse_dates=True)\n",
    "\n",
    "contratos_registrados_mujeres.index = pd.PeriodIndex(contratos_registrados_mujeres.index, freq='M')\n",
    "\n",
    "\n",
    "################################################################################################################################\n",
    "\n",
    "# CONVERTIMOS A TRIMESTRAL\n",
    "# AMBOS SEXOS\n",
    "contratos_registrados_Q = trimes(contratos_registrados, 's')\n",
    "\n",
    "# HOMBRES\n",
    "contratos_registrados_hombres_Q = trimes(contratos_registrados_hombres, 's')\n",
    "\n",
    "# MUJERES\n",
    "contratos_registrados_mujeres_Q = trimes(contratos_registrados_mujeres, 's')\n",
    "\n",
    "################################################################################################################################\n",
    "\n",
    "# DESESTACIONALIZAMOS\n",
    "\n",
    "# MENSUAL\n",
    "# AMBOS SEXOS\n",
    "contratos_registrados_deses = deses(contratos_registrados)\n",
    "\n",
    "# HOMBRES\n",
    "contratos_registrados_hombres_deses = deses(contratos_registrados_hombres)\n",
    "\n",
    "# MUJERES\n",
    "contratos_registrados_mujeres_deses = deses(contratos_registrados_mujeres)\n",
    "\n",
    "\n",
    "# TRIMESTRAL\n",
    "# AMBOS SEXOS\n",
    "contratos_registrados_deses_Q = deses(contratos_registrados_Q)\n",
    "\n",
    "# HOMBRES\n",
    "contratos_registrados_hombres_deses_Q = deses(contratos_registrados_hombres_Q)\n",
    "\n",
    "# MUJERES\n",
    "contratos_registrados_mujeres_deses_Q = deses(contratos_registrados_mujeres_Q)\n",
    "\n",
    "\n",
    "################################################################################################################################\n",
    "\n",
    "# TASAS DE VARIACIÓN\n",
    "\n",
    "# INTERANUAL\n",
    "# AMBOS SEXOS\n",
    "tv_contratos_registrados_anual = tv_anual(contratos_registrados)\n",
    "\n",
    "# HOMBRES\n",
    "tv_contratos_registrados_hombres_anual = tv_anual(contratos_registrados_hombres)\n",
    "\n",
    "# MUJERES\n",
    "tv_contratos_registrados_mujeres_anual = tv_anual(contratos_registrados_mujeres)\n",
    "\n",
    "\n",
    "# MENSUAL\n",
    "# AMBOS SEXOS\n",
    "tv_contratos_registrados = tv(contratos_registrados)\n",
    "\n",
    "# HOMBRES\n",
    "tv_contratos_registrados_hombres = tv(contratos_registrados_hombres)\n",
    "\n",
    "# MUJERES\n",
    "tv_contratos_registrados_mujeres = tv(contratos_registrados_mujeres)\n",
    "\n",
    "\n",
    "# TRIMESTRAL\n",
    "# AMBOS SEXOS\n",
    "tv_contratos_registrados_Q = tv(contratos_registrados_Q)\n",
    "\n",
    "# HOMBRES\n",
    "tv_contratos_registrados_hombres_Q = tv(contratos_registrados_hombres_Q)\n",
    "\n",
    "# MUJERES\n",
    "tv_contratos_registrados_mujeres_Q = tv(contratos_registrados_mujeres_Q)\n",
    "\n",
    "\n",
    "# MENSUAL DESESTACIONALIZADO\n",
    "# AMBOS SEXOS\n",
    "tv_contratos_registrados_deses = tv(contratos_registrados_deses)\n",
    "\n",
    "# HOMBRES\n",
    "tv_contratos_registrados_hombres_deses = tv(contratos_registrados_hombres_deses)\n",
    "\n",
    "# MUJERES\n",
    "tv_contratos_registrados_mujeres_deses = tv(contratos_registrados_mujeres_deses)\n",
    "\n",
    "\n",
    "# TRIMESTRAL DESESTACIONALIZADO\n",
    "# AMBOS SEXOS\n",
    "tv_contratos_registrados_deses_Q = tv(contratos_registrados_deses_Q)\n",
    "\n",
    "# HOMBRES\n",
    "tv_contratos_registrados_hombres_deses_Q = tv(contratos_registrados_hombres_deses_Q)\n",
    "\n",
    "# MUJERES\n",
    "tv_contratos_registrados_mujeres_deses_Q = tv(contratos_registrados_mujeres_deses_Q)\n"
   ]
  },
  {
   "cell_type": "code",
   "execution_count": null,
   "id": "e615e00f",
   "metadata": {},
   "outputs": [],
   "source": [
    "#######################################\n",
    "# DEMANDA DE EMPLEO Y PARO REGISTRADO #\n",
    "#######################################\n",
    "\n",
    "\n",
    "################################################################################################################################\n",
    "\n",
    "\n",
    "# AMBOS SEXOS\n",
    "empleo = pd.read_excel(datos + \"Mercado de Trabajo/demanda_empleo_y_paro_registrado.xlsx\"\n",
    "                       , \"Ambos sexos\", index_col=0, parse_dates=True)\n",
    "\n",
    "empleo.index = pd.PeriodIndex(empleo.index, freq='M')\n",
    "\n",
    "# HOMBRES\n",
    "empleo_hombres = pd.read_excel(datos + \"Mercado de Trabajo/demanda_empleo_y_paro_registrado.xlsx\"\n",
    "                               , \"Hombres\", index_col=0, parse_dates=True)\n",
    "\n",
    "empleo_hombres.index = pd.PeriodIndex(empleo_hombres.index, freq='M')\n",
    "\n",
    "# MUJERES\n",
    "empleo_mujeres = pd.read_excel(datos + \"Mercado de Trabajo/demanda_empleo_y_paro_registrado.xlsx\"\n",
    "                               , \"Mujeres\", index_col=0, parse_dates=True)\n",
    "\n",
    "empleo_mujeres.index = pd.PeriodIndex(empleo_mujeres.index, freq='M')\n",
    "\n",
    "\n",
    "################################################################################################################################\n",
    "\n",
    "# CONVERTIMOS A TRIMESTRAL\n",
    "# AMBOS SEXOS\n",
    "empleo_Q = trimes(empleo, 's')\n",
    "\n",
    "# HOMBRES\n",
    "empleo_hombres_Q = trimes(empleo_hombres, 's')\n",
    "\n",
    "# MUJERES\n",
    "empleo_mujeres_Q = trimes(empleo_mujeres, 's')\n",
    "\n",
    "\n",
    "################################################################################################################################\n",
    "\n",
    "# DESESTACIONALIZAMOS\n",
    "\n",
    "# MENSUAL\n",
    "# AMBOS SEXOS\n",
    "empleo_deses = deses(empleo)\n",
    "\n",
    "# HOMBRES\n",
    "empleo_hombres_deses = deses(empleo_hombres)\n",
    "\n",
    "# MUJERES\n",
    "empleo_mujeres_deses = deses(empleo_mujeres)\n",
    "\n",
    "\n",
    "# TRIMESTRAL\n",
    "# AMBOS SEXOS\n",
    "empleo_deses_Q = deses(empleo_Q)\n",
    "\n",
    "# HOMBRES\n",
    "empleo_hombres_deses_Q = deses(empleo_hombres_Q)\n",
    "\n",
    "# MUJERES\n",
    "empleo_mujeres_deses_Q = deses(empleo_mujeres_Q)\n",
    "\n",
    "\n",
    "################################################################################################################################\n",
    "\n",
    "# TASAS DE VARIACIÓN\n",
    "\n",
    "# INTERANUAL\n",
    "# AMBOS SEXOS\n",
    "tv_empleo_anual = tv_anual(empleo)\n",
    "\n",
    "# HOMBRES\n",
    "tv_empleo_hombres_anual = tv_anual(empleo_hombres)\n",
    "\n",
    "# MUJERES\n",
    "tv_empleo_mujeres_anual = tv_anual(empleo_mujeres)\n",
    "\n",
    "\n",
    "# MENSUAL\n",
    "# AMBOS SEXOS\n",
    "tv_empleo = tv(empleo)\n",
    "\n",
    "# HOMBRES\n",
    "tv_empleo_hombres = tv(empleo_hombres)\n",
    "\n",
    "# MUJERES\n",
    "tv_empleo_mujeres = tv(empleo_mujeres)\n",
    "\n",
    "\n",
    "# TRIMESTRAL\n",
    "# AMBOS SEXOS\n",
    "tv_empleo_Q = tv(empleo_Q)\n",
    "\n",
    "# HOMBRES\n",
    "tv_empleo_hombres_Q = tv(empleo_hombres_Q)\n",
    "\n",
    "# MUJERES\n",
    "tv_empleo_mujeres_Q = tv(empleo_mujeres_Q)\n",
    "\n",
    "\n",
    "# MENSUAL DESESTACIONALIZADO\n",
    "# AMBOS SEXOS\n",
    "tv_empleo_deses = tv(empleo_deses)\n",
    "\n",
    "# HOMBRES\n",
    "tv_empleo_hombres_deses = tv(empleo_hombres_deses)\n",
    "\n",
    "# MUJERES\n",
    "tv_empleo_mujeres_deses = tv(empleo_mujeres_deses)\n",
    "\n",
    "\n",
    "# TRIMESTRAL DESESTACIONALIZADO\n",
    "# AMBOS SEXOS\n",
    "tv_empleo_deses_Q = tv(empleo_deses_Q)\n",
    "\n",
    "# HOMBRES\n",
    "tv_empleo_hombres_deses_Q = tv(empleo_hombres_deses_Q)\n",
    "\n",
    "# MUJERES\n",
    "tv_empleo_mujeres_deses_Q = tv(empleo_mujeres_deses_Q)\n"
   ]
  },
  {
   "cell_type": "code",
   "execution_count": null,
   "id": "54f15973",
   "metadata": {},
   "outputs": [],
   "source": [
    "################################\n",
    "# ÍNDICES DE MOVILIDAD LABORAL #\n",
    "################################\n",
    "\n",
    "\n",
    "################################################################################################################################\n",
    "\n",
    "\n",
    "# ÍNDICES DE FLUJOS\n",
    "indices_flujos = pd.read_excel(datos + \"Mercado de Trabajo/Movilidad laboral/indices_de_flujos.xlsx\"\n",
    "                               , \"Índice\", index_col=0, parse_dates=True)\n",
    "\n",
    "indices_flujos.index = pd.PeriodIndex(indices_flujos.index, freq='Q')\n",
    "\n",
    "# ÍDICE DE PERMANENCIA\n",
    "indice_permanencia = pd.read_excel(datos + \"Mercado de Trabajo/Movilidad laboral/indice_de_permanencia.xlsx\"\n",
    "                                   , \"Índice\", index_col=0, parse_dates=True)\n",
    "\n",
    "indice_permanencia.index = pd.PeriodIndex(indice_permanencia.index, freq='Q')\n",
    "\n",
    "# UNIMOS TODOS LOS ÍNDICES\n",
    "indices_movilidad = indices_flujos.copy()\n",
    "indices_movilidad.insert(0, \"Índice de permanencia\", indice_permanencia[\"Índice de permanencia\"])\n",
    "\n",
    "del indices_flujos, indice_permanencia\n",
    "\n",
    "################################################################################################################################\n",
    "\n",
    "# DESESTACIONALIZAMOS\n",
    "\n",
    "indices_movilidad_deses = deses(indices_movilidad)\n",
    "\n",
    "\n",
    "################################################################################################################################\n",
    "\n",
    "# TASAS DE VARIACIÓN\n",
    "# INTERANUAL\n",
    "tv_indices_movilidad_anual = tv_anual(indices_movilidad)\n",
    "\n",
    "# TRIMESTRAL\n",
    "tv_indices_movilidad = tv(indices_movilidad)\n",
    "\n",
    "# TRIMESTRAL DESESTACIONALIZADO\n",
    "tv_indices_movilidad_deses = tv(indices_movilidad_deses)\n"
   ]
  },
  {
   "cell_type": "markdown",
   "id": "a7c186f3",
   "metadata": {},
   "source": [
    "<a id='Trabajo1'>5.1. Afiliaciones a la Seguridad Social</a>"
   ]
  },
  {
   "cell_type": "code",
   "execution_count": null,
   "id": "0b1e8630",
   "metadata": {},
   "outputs": [],
   "source": [
    "fig, axs = plt.subplots(1, 2, figsize=(18,10))\n",
    "\n",
    "axs[0].pie([afiliaciones_por_regimen.iloc[31, 0],afiliaciones_por_regimen.iloc[31, 1],afiliaciones_por_regimen.iloc[31, 2]\n",
    "         , afiliaciones_por_regimen.iloc[31, 3], afiliaciones_por_regimen.iloc[31, 4]], autopct='%1.1f%%',\n",
    "        shadow = True, startangle = 90, labels=['Régimen General y Carbón', 'Sistema Especial Agrario',\n",
    "       'Empleados del Hogar', 'Autónomos', 'Régimen Especial del Mar'])\n",
    "axs[0].set_title('Afiliaciones por régimen 2019')\n",
    "axs[0].axis('equal')\n",
    "\n",
    "axs[1].pie([afiliaciones_por_regimen.iloc[39, 0],afiliaciones_por_regimen.iloc[39, 1],afiliaciones_por_regimen.iloc[39, 2]\n",
    "         , afiliaciones_por_regimen.iloc[39, 3], afiliaciones_por_regimen.iloc[39, 4]], autopct='%1.1f%%',\n",
    "        shadow = True, startangle = 90, labels=['Régimen General y Carbón', 'Sistema Especial Agrario',\n",
    "       'Empleados del Hogar', 'Autónomos', 'Régimen Especial del Mar'])\n",
    "axs[1].set_title('Afiliaciones por régimen 2021')\n",
    "axs[1].axis('equal')\n",
    "\n",
    "plt.figtext(.85, .07, 'Fuente: IECA', fontsize=12, color='dimgrey')\n",
    "plt.figtext(.10, .07, 'Figura 5.1: Distribución de las afiliaciones', fontsize=16, color='dimgrey')\n",
    "\n",
    "###################\n",
    "# GUARDAR GRÁFICO #\n",
    "###################\n",
    "# plt.savefig('Gráficos/Mercado de trabajo/grafico51.png', dpi=1200)\n",
    "\n",
    "plt.show()\n"
   ]
  },
  {
   "cell_type": "code",
   "execution_count": null,
   "id": "f0af798f",
   "metadata": {},
   "outputs": [],
   "source": [
    "# Representamos turismo nacional, extranjero y total\n",
    "fig, axs = plt.subplots(1, 1,figsize=(18,6))\n",
    "\n",
    "tv_afiliaciones_por_regimen_deses['Régimen General y Carbón'].plot(label='Régimen General y Carbón')\n",
    "tv_afiliaciones_por_regimen_deses['Sistema Especial Agrario'].plot(label='Sistema Especial Agrario')\n",
    "tv_afiliaciones_por_regimen_deses['Empleados del Hogar'].plot(label='Empleados del Hogar')\n",
    "tv_afiliaciones_por_regimen_deses['Autónomos'].plot(label='Autónomos')\n",
    "tv_afiliaciones_por_regimen_deses['Régimen Especial del Mar'].plot(label='Régimen Especial del Mar')\n",
    "axs.set_title('Evolución de la tasa de variación de las afiliaciones desestacionalizada')\n",
    "axs.yaxis.set_major_formatter(mtick.PercentFormatter(1))\n",
    "axs.legend(loc=\"upper left\")\n",
    "\n",
    "\n",
    "plt.figtext(.85, .0, 'Fuente: IECA', fontsize=12, color='dimgrey')\n",
    "plt.figtext(.10, .0, 'Figura 5.2: Afiliaciones por régimen en el municipio de Sevilla', fontsize=16, color='dimgrey')\n",
    "\n",
    "###################\n",
    "# GUARDAR GRÁFICO #\n",
    "###################\n",
    "# plt.savefig('Gráficos/Mercado de trabajo/grafico52.png', dpi=1200)\n",
    "\n",
    "plt.show()"
   ]
  },
  {
   "cell_type": "code",
   "execution_count": null,
   "id": "96452dc4",
   "metadata": {},
   "outputs": [],
   "source": [
    "# Tabla de empresas en los últimos años\n",
    "tabla_afiliaciones = tv_afiliaciones_por_actividad_anual.T[['2018', '2019', '2020', '2021']].style\n",
    "\n",
    "tabla_afiliaciones.format(formatter='{:.2%}')\n",
    "\n",
    "tabla_afiliaciones.set_table_styles([cell_hover, index_names, headers])\n",
    "\n",
    "tabla_afiliaciones.set_caption('Tabla 5.1: Tasa de variación de las afiliaciones por actividad')\\\n",
    " .set_table_styles([{\n",
    "     'selector': 'caption',\n",
    "     'props': 'caption-side: bottom; font-size:1.25em;'\n",
    " }], overwrite=False)"
   ]
  },
  {
   "cell_type": "code",
   "execution_count": null,
   "id": "ba6e6e78",
   "metadata": {},
   "outputs": [],
   "source": [
    "#################\n",
    "# GUARDAR TABLA #\n",
    "#################\n",
    "#dfi.export(tabla_afiliaciones, 'Tablas/Mercado de trabajo/tabla51.png')"
   ]
  },
  {
   "cell_type": "markdown",
   "id": "464fedaf",
   "metadata": {},
   "source": [
    "<a id='Trabajo2'>5.2. Contratos registrados</a>"
   ]
  },
  {
   "cell_type": "code",
   "execution_count": null,
   "id": "ced15d64",
   "metadata": {},
   "outputs": [],
   "source": [
    "# Representamos turismo nacional, extranjero y total\n",
    "fig, axs = plt.subplots(3, 1,figsize=(18,16))\n",
    "\n",
    "contratos_registrados['Indefinidos'].plot(ax=axs[0], label='Serie normal')\n",
    "contratos_registrados_deses['Indefinidos'].plot(ax=axs[0], label='Serie desestacionalizada')\n",
    "axs[0].set_title('Contratos indefinidos')\n",
    "axs[0].legend(loc=\"upper left\")\n",
    "\n",
    "contratos_registrados['Temporales'].plot(ax=axs[1], label='Serie normal')\n",
    "contratos_registrados_deses['Temporales'].plot(ax=axs[1], label='Serie desestacionalizada')\n",
    "axs[1].set_title('Contratos temporales')\n",
    "axs[1].legend(loc=\"upper left\")\n",
    "\n",
    "tv_contratos_registrados_deses['Total'].plot(ax=axs[2], label='Total')\n",
    "tv_contratos_registrados_deses['Indefinidos'].plot(ax=axs[2], label='Indefinidos')\n",
    "tv_contratos_registrados_deses['Temporales'].plot(ax=axs[2], label='Temporales')\n",
    "axs[2].set_title('Tasa de variación de los contratos')\n",
    "axs[2].yaxis.set_major_formatter(mtick.PercentFormatter(1))\n",
    "axs[2].legend(loc=\"upper left\")\n",
    "\n",
    "\n",
    "plt.figtext(.85, .0, 'Fuente: IECA', fontsize=12, color='dimgrey')\n",
    "plt.figtext(.10, .0, 'Figura 5.3: Contratos registrado en el municipio de Sevilla', fontsize=16, color='dimgrey')\n",
    "\n",
    "###################\n",
    "# GUARDAR GRÁFICO #\n",
    "###################\n",
    "# plt.savefig('Gráficos/Mercado de trabajo/grafico53.png', dpi=1200)\n",
    "\n",
    "plt.show()"
   ]
  },
  {
   "cell_type": "code",
   "execution_count": null,
   "id": "ac5c061f",
   "metadata": {},
   "outputs": [],
   "source": [
    "#empleo"
   ]
  },
  {
   "cell_type": "markdown",
   "id": "3151ede6",
   "metadata": {},
   "source": [
    "<a id='Trabajo3'>5.3. Tasa de actividad, ocupación, desempleo y temporalidad</a>"
   ]
  },
  {
   "cell_type": "markdown",
   "id": "4f6c9f0a",
   "metadata": {},
   "source": [
    "**Tasa de actividad**"
   ]
  },
  {
   "cell_type": "code",
   "execution_count": null,
   "id": "67a145a3",
   "metadata": {},
   "outputs": [],
   "source": []
  },
  {
   "cell_type": "markdown",
   "id": "dcadb302",
   "metadata": {},
   "source": [
    "**Tasa de ocupación**"
   ]
  },
  {
   "cell_type": "code",
   "execution_count": null,
   "id": "70fb9fa6",
   "metadata": {},
   "outputs": [],
   "source": []
  },
  {
   "cell_type": "markdown",
   "id": "c2e1ad54",
   "metadata": {},
   "source": [
    "**Tasa de desempleo**"
   ]
  },
  {
   "cell_type": "code",
   "execution_count": null,
   "id": "59543548",
   "metadata": {},
   "outputs": [],
   "source": []
  },
  {
   "cell_type": "markdown",
   "id": "8db19e84",
   "metadata": {},
   "source": [
    "**Tasa de temporalidad**"
   ]
  },
  {
   "cell_type": "code",
   "execution_count": null,
   "id": "bb95d855",
   "metadata": {},
   "outputs": [],
   "source": []
  },
  {
   "cell_type": "markdown",
   "id": "4d0f6c60",
   "metadata": {},
   "source": [
    "<a id='Trabajo4'>5.4. Índices de movilidad</a>"
   ]
  },
  {
   "cell_type": "code",
   "execution_count": null,
   "id": "dca0aeea",
   "metadata": {},
   "outputs": [],
   "source": [
    "indices_movilidad"
   ]
  },
  {
   "cell_type": "code",
   "execution_count": null,
   "id": "73e890f2",
   "metadata": {},
   "outputs": [],
   "source": []
  },
  {
   "cell_type": "code",
   "execution_count": null,
   "id": "549bf114",
   "metadata": {},
   "outputs": [],
   "source": []
  },
  {
   "cell_type": "markdown",
   "id": "8c542737",
   "metadata": {},
   "source": [
    "<a id='Trabajo5'>5.5. Estudio de las series temporales y predicciones</a>"
   ]
  },
  {
   "cell_type": "markdown",
   "id": "989bb829",
   "metadata": {},
   "source": [
    "**Predicción SARIMA**"
   ]
  },
  {
   "cell_type": "code",
   "execution_count": null,
   "id": "1307f21f",
   "metadata": {},
   "outputs": [],
   "source": [
    "# Variable objetivo\n",
    "varobj = contratos_registrados['Total'].copy()\n",
    "\n",
    "# Modelo SARIMA\n",
    "mod = sm.tsa.statespace.SARIMAX(endog=varobj, trend='c', order=(3,1,2), seasonal_order=(1,1,0,12)).fit()\n",
    "\n",
    "# Modelo y predicciones del número de empresas\n",
    "fig, axs = plt.subplots(2, 1,figsize=(18,13))\n",
    "\n",
    "varobj.plot(ax=axs[0], label='Serie original')\n",
    "mod.predict().iloc[1:].plot(ax=axs[0], label='Predicción modelo')\n",
    "axs[0].set_title('Modelo SARIMA')\n",
    "axs[0].legend(loc=\"upper left\")\n",
    "\n",
    "pd.concat([varobj, mod.get_forecast(steps=24).summary_frame()['mean'].iloc[:1]]).plot(x=axs[1])\n",
    "mod.get_forecast(steps=24).summary_frame()['mean'].plot(x=axs[1], style='--')\n",
    "axs[1].fill_between(mod.get_forecast(steps=24).summary_frame().index\n",
    "                    , mod.get_forecast(steps=24).summary_frame()['mean_ci_lower']\n",
    "                    , mod.get_forecast(steps=24).summary_frame()['mean_ci_upper']\n",
    "                    , color='k', alpha=0.05)\n",
    "axs[1].text(470, 80000, 'Desviación estándar relativa: ' + str(\"{0:.2%}\".format(((varobj.iloc[1:]-mod.predict().iloc[1:])**2).mean()**(1/2)/varobj.iloc[1:].mean())), bbox=dict(facecolor='lightgray', alpha=0.4, edgecolor='k'))\n",
    "axs[1].set_title('Predicción modelo')\n",
    "\n",
    "plt.figtext(.85, .07, 'Elaboración propia', fontsize=12, color='dimgrey')\n",
    "plt.figtext(.10, .07, 'Figura 4.4: Número de turistas y modelo SARIMA', fontsize=16, color='dimgrey')\n",
    "\n",
    "###################\n",
    "# GUARDAR GRÁFICO #\n",
    "###################\n",
    "# plt.savefig('Gráficos/Análisis/grafico44.png', dpi=1200)\n",
    "\n",
    "plt.show()\n"
   ]
  },
  {
   "cell_type": "code",
   "execution_count": null,
   "id": "db9f1498",
   "metadata": {},
   "outputs": [],
   "source": [
    "del varobj"
   ]
  },
  {
   "cell_type": "markdown",
   "id": "b54c842a",
   "metadata": {},
   "source": [
    "___"
   ]
  },
  {
   "cell_type": "markdown",
   "id": "ffe3f9d5",
   "metadata": {},
   "source": [
    "> <a id='Precios'>6. Evolución de los Índices de Precios</a>\n",
    "\n",
    "Texto"
   ]
  },
  {
   "cell_type": "code",
   "execution_count": null,
   "id": "7dca13a8",
   "metadata": {
    "scrolled": true
   },
   "outputs": [],
   "source": [
    "#############################\n",
    "# IPC NACIONAL Y PROVINCIAL #\n",
    "#############################\n",
    "\n",
    "################################################################################################################################\n",
    "\n",
    "                                                                                   # El proceso es (casi) indéntico\n",
    "# IMPORTAMOS IPC NACIONAL                                                          # al de empresas\n",
    "IPC_nacional = pd.read_excel(datos + 'IPC/IPC_provincial.xlsx', 'Nacional', index_col=0, parse_dates=True)\n",
    "\n",
    "IPC_nacional.index = pd.PeriodIndex(IPC_nacional.index, freq='M')\n",
    "\n",
    "\n",
    "# IMPORTAMOS IPC PROVINCIAL\n",
    "IPC_provincial = pd.read_excel(datos + 'IPC/IPC_provincial.xlsx', 'Sevilla', index_col=0, parse_dates=True)\n",
    "\n",
    "IPC_provincial.index = pd.PeriodIndex(IPC_provincial.index, freq='M')\n",
    "\n",
    "\n",
    "# CONVERTIMOS A TRIMESTRAL IPC NACIONAL\n",
    "IPC_nacional_Q = trimes(IPC_nacional, 'm')\n",
    "\n",
    "# CONVERTIMOS A TRIMESTRAL IPC PROVINCIAL\n",
    "IPC_provincial_Q = trimes(IPC_provincial, 'm')\n",
    "\n",
    "\n",
    "################################################################################################################################\n",
    "\n",
    "\n",
    "# DESESTACIONALIZAMOS IPC NACIONAL\n",
    "IPC_nacional_deses = deses(IPC_nacional)\n",
    "\n",
    "\n",
    "# DESESTACIONALIZAMOS IPC PROVINCIAL\n",
    "IPC_provincial_deses = deses(IPC_provincial)\n",
    "\n",
    "\n",
    "# DESESTACIONALIZAMOS IPC NACIONAL TRIMESTRAL\n",
    "IPC_nacional_deses_Q = deses(IPC_nacional_Q)\n",
    "\n",
    "# DESESTACIONALIZAMOS IPC PROVINCIAL TRIMESTRAL\n",
    "IPC_provincial_deses_Q = deses(IPC_provincial_Q)\n"
   ]
  },
  {
   "cell_type": "code",
   "execution_count": null,
   "id": "7adb0a54",
   "metadata": {
    "scrolled": false
   },
   "outputs": [],
   "source": [
    "###############################################################\n",
    "# INFLACIÓN NACIONAL Y PROVINCIAL (CALCULADO A TRAVÉS DE IPC) #\n",
    "###############################################################\n",
    "\n",
    "################################################################################################################################\n",
    "\n",
    "\n",
    "# INFLACIÓN NACIONAL\n",
    "inflacion_es = tv(IPC_nacional)\n",
    "\n",
    "# INFLACIÓN NACIONAL INTERANUAL (MISMO MES, AÑO ANTERIOR)\n",
    "inflacion_anual_es = tv_anual(IPC_nacional)\n",
    "\n",
    "# INFLACIÓN PROVINCIAL\n",
    "inflacion_sv = tv(IPC_provincial)\n",
    "\n",
    "# INFLACION PROVINCIAL INTERANUAL (MISMO MES, AÑO ANTERIOR)\n",
    "inflacion_anual_sv = tv_anual(IPC_provincial)\n",
    "\n",
    "\n",
    "################################################################################################################################\n",
    "\n",
    "\n",
    "# INFALCIÓN NACIONAL DESESTACIONALIZADO\n",
    "inflacion_deses_es = tv(IPC_nacional_deses)\n",
    "\n",
    "\n",
    "# INFLACIÓN PROVINCIAL DESESTACIONALIZADO\n",
    "inflacion_deses_sv = tv(IPC_provincial_deses)\n"
   ]
  },
  {
   "cell_type": "code",
   "execution_count": null,
   "id": "9a9e5a57",
   "metadata": {},
   "outputs": [],
   "source": [
    "#####################\n",
    "# PRECIOS HOTELEROS #\n",
    "#####################\n",
    "\n",
    "\n",
    "################################################################################################################################\n",
    "\n",
    "\n",
    "# IMPORTAMOS EL ÍNDICE DE PRECIOS HOTELEROS (MENSUAL) PARA LA PROVINCIA DE SEVILLA\n",
    "precios_hoteles = pd.read_excel(datos + 'Turismo/indice_precios_hoteleros_provincial.xlsx', 'Precios'\n",
    "                                  , index_col=0, parse_dates=True).interpolate(method='polynomial', order=2)\n",
    "                                                                           # Hemos utilizado interpolate() para rellenar\n",
    "precios_hoteles.index = pd.PeriodIndex(precios_hoteles.index, freq='M')    # valores perdidos\n",
    "\n",
    "\n",
    "# CONVERTIMOS A TRIMESTRAL LOS DATOS\n",
    "precios_hoteles_Q = trimes(precios_hoteles, 'm')\n",
    "\n",
    "\n",
    "################################################################################################################################\n",
    "\n",
    "# DESESTACIONALIZAMOS\n",
    "\n",
    "# PRECIOS HOTELEROS MENSUALES\n",
    "precios_hoteles_deses = deses(precios_hoteles)\n",
    "\n",
    "# PRECIOS HOTELEROS TRIMESTRALES\n",
    "precios_hoteles_deses_Q = deses(precios_hoteles_Q)\n",
    "\n",
    "\n",
    "################################################################################################################################\n",
    "\n",
    "# TASAS DE VARIACIÓN\n",
    "\n",
    "# INFLACIÓN MENSUAL SECTOR HOTELERO\n",
    "inflacion_hoteles = tv(precios_hoteles)\n",
    "\n",
    "# INFLACIÓN INTERANUAL SECTOR HOTELERO (MISMO MES, AÑO ANTERIOR)\n",
    "inflacion_hoteles_anual = tv_anual(precios_hoteles)\n",
    "\n",
    "# INFLACIÓN MENSUAL DESESTACIONALIZADA\n",
    "inflacion_hoteles_deses = tv(precios_hoteles_deses)\n",
    "\n",
    "# INFLACIÓN TRIMESTRAL\n",
    "inflacion_hoteles_Q = tv(precios_hoteles_Q)\n",
    "\n",
    "# INFLACIÓN TRIMESTRAL DESESTACIONALIZADA\n",
    "inflacion_hoteles_deses_Q = tv(precios_hoteles_deses_Q)"
   ]
  },
  {
   "cell_type": "markdown",
   "id": "fa5089de",
   "metadata": {},
   "source": [
    "<a id='Precios1'>6.1. Inflación</a>\n",
    "\n",
    "La inflación (en este caso provincial), está sujeta a cambios estacionales, nosotros la representaremos para poder observar el cambio que puede llegar a haber al desestacionalizarla. Observando la figura 3.1, el segunda gráfico nos muestra la evolución de la inflación mensual (de un mes a otro) desestacionalizada, habiendo en los años 2008-2009, una caída sustancial. Durante los siguientes años, de 2011 a 2015 y de 2016 a 2020 sucedería algo parecido, pero de una forma más moderada.\n",
    "\n",
    "En el año 2021, sin embargo, como bien sabemos comenzaría la escalada de la inflación y ésta se dispararía en la provincia como en el resto del territorio nacional."
   ]
  },
  {
   "cell_type": "code",
   "execution_count": null,
   "id": "a1f78c4c",
   "metadata": {
    "scrolled": false
   },
   "outputs": [],
   "source": [
    "# Representamos inflación en España vs Sevilla\n",
    "fig, axs = plt.subplots(3, 1,figsize=(18,13))\n",
    "\n",
    "inflacion_es.iloc[22:-4]['Índice general'].plot(ax=axs[0], label='España')\n",
    "inflacion_sv.iloc[22:-4]['Índice general'].plot(ax=axs[0], label='Sevilla')\n",
    "axs[0].set_title('Evolución de la inflación en variaciones mensuales')\n",
    "axs[0].yaxis.set_major_formatter(mtick.PercentFormatter(1))\n",
    "axs[0].legend(loc=\"upper left\")\n",
    "\n",
    "inflacion_deses_es.iloc[16:]['Índice general'].plot(ax=axs[1], label='España')\n",
    "inflacion_deses_sv.iloc[16:]['Índice general'].plot(ax=axs[1], label='Sevilla')\n",
    "axs[1].set_title('Evolución de la inflación en variaciones mensuales desestacionalizado')\n",
    "axs[1].yaxis.set_major_formatter(mtick.PercentFormatter(1))\n",
    "\n",
    "inflacion_anual_es['Índice general'].plot(ax=axs[2], label='España')\n",
    "inflacion_anual_sv['Índice general'].plot(ax=axs[2], label='Sevilla')\n",
    "axs[2].set_title('Evolución de la inflación en variaciones anuales')\n",
    "axs[2].yaxis.set_major_formatter(mtick.PercentFormatter(1))\n",
    "\n",
    "plt.figtext(.85, .07, 'Fuente: IECA', fontsize=12, color='dimgrey')\n",
    "plt.figtext(.10, .07, 'Figura 6.1: Inflación provincial y nacional', fontsize=16, color='dimgrey')\n",
    "\n",
    "###################\n",
    "# GUARDAR GRÁFICO #\n",
    "###################\n",
    "# plt.savefig('Gráficos/Empresas y precios/grafico61.png', dpi=1200)\n",
    "\n",
    "plt.show()"
   ]
  },
  {
   "cell_type": "markdown",
   "id": "3c692264",
   "metadata": {},
   "source": [
    "La inflación interanual (tercer gráfico de la figura 3.1), veríamos como ésta no suele superar el 3-4% aproximadamente durante toda la serie temporal, manteniéndose una inflación estable en la provincia. No es hasta el último periodo donde veríamos que ésta llega a alcanzar hasta más de 6%."
   ]
  },
  {
   "cell_type": "markdown",
   "id": "f5179838",
   "metadata": {},
   "source": [
    "<a id='Precios2'>6.2. Precios hoteleros</a>"
   ]
  },
  {
   "cell_type": "code",
   "execution_count": null,
   "id": "7ccf0821",
   "metadata": {},
   "outputs": [],
   "source": []
  },
  {
   "cell_type": "markdown",
   "id": "f4bc8565",
   "metadata": {},
   "source": [
    "<a id='Precios3'>6.3. Análisis y predicciones futuras</a>"
   ]
  },
  {
   "cell_type": "code",
   "execution_count": null,
   "id": "a19b076e",
   "metadata": {},
   "outputs": [],
   "source": [
    "# Representamos inflación e inflación de precios hoteleros\n",
    "fig, axs = plt.subplots(3, 1,figsize=(18,13))\n",
    "\n",
    "inflacion_hoteles.iloc[11:]['Índice de precios hoteleros'].plot(ax=axs[0], label='Inflación hoteles')\n",
    "inflacion_sv.iloc[95:-1]['Índice general'].plot(ax=axs[0], label='Inflación general')\n",
    "axs[0].set_title('Evolución de la inflación en variaciones mensuales')\n",
    "axs[0].yaxis.set_major_formatter(mtick.PercentFormatter(1))\n",
    "axs[0].legend(loc=\"upper left\")\n",
    "\n",
    "inflacion_hoteles_deses.iloc[5:]['Índice de precios hoteleros'].plot(ax=axs[1], label='España')\n",
    "inflacion_deses_sv.iloc[89:]['Índice general'].plot(ax=axs[1], label='Sevilla')\n",
    "axs[1].set_title('Evolución de la inflación en variaciones mensuales desestacionalizado')\n",
    "axs[1].yaxis.set_major_formatter(mtick.PercentFormatter(1))\n",
    "\n",
    "inflacion_hoteles_anual['Índice de precios hoteleros'].plot(ax=axs[2], label='España')\n",
    "inflacion_anual_sv.iloc[7:]['Índice general'].plot(ax=axs[2], label='Sevilla')\n",
    "axs[2].set_title('Evolución de la inflación en variaciones anuales')\n",
    "axs[2].yaxis.set_major_formatter(mtick.PercentFormatter(1))\n",
    "\n",
    "plt.figtext(.85, .07, 'Fuente: IECA', fontsize=12, color='dimgrey')\n",
    "plt.figtext(.10, .07, 'Figura 6.x: Inflación general y hotelera', fontsize=16, color='dimgrey')\n",
    "\n",
    "###################\n",
    "# GUARDAR GRÁFICO #\n",
    "###################\n",
    "# plt.savefig('Gráficos/Turismo/grafico6x.png', dpi=1200)\n",
    "\n",
    "plt.show()"
   ]
  },
  {
   "cell_type": "code",
   "execution_count": null,
   "id": "d1ab5c62",
   "metadata": {},
   "outputs": [],
   "source": []
  },
  {
   "cell_type": "markdown",
   "id": "50b3d84b",
   "metadata": {},
   "source": [
    "___"
   ]
  },
  {
   "cell_type": "markdown",
   "id": "c12b3efe",
   "metadata": {},
   "source": [
    "> <a id='Conclusiones'>7. Conclusiones</a>"
   ]
  },
  {
   "cell_type": "code",
   "execution_count": null,
   "id": "af07fbc7",
   "metadata": {},
   "outputs": [],
   "source": []
  },
  {
   "cell_type": "code",
   "execution_count": null,
   "id": "10b968cc",
   "metadata": {},
   "outputs": [],
   "source": []
  },
  {
   "cell_type": "code",
   "execution_count": null,
   "id": "5492c976",
   "metadata": {},
   "outputs": [],
   "source": []
  },
  {
   "cell_type": "markdown",
   "id": "54abf521",
   "metadata": {},
   "source": [
    "___"
   ]
  },
  {
   "cell_type": "markdown",
   "id": "69076f4e",
   "metadata": {},
   "source": [
    "> <a id='Bibliografia'>8. Bibliografía y fuentes</a>"
   ]
  },
  {
   "cell_type": "code",
   "execution_count": null,
   "id": "e6634eaa",
   "metadata": {
    "scrolled": true
   },
   "outputs": [],
   "source": []
  },
  {
   "cell_type": "code",
   "execution_count": null,
   "id": "7f9df1eb",
   "metadata": {
    "scrolled": true
   },
   "outputs": [],
   "source": []
  },
  {
   "cell_type": "code",
   "execution_count": null,
   "id": "cdfe6a5f",
   "metadata": {
    "scrolled": true
   },
   "outputs": [],
   "source": []
  }
 ],
 "metadata": {
  "kernelspec": {
   "display_name": "Python 3 (ipykernel)",
   "language": "python",
   "name": "python3"
  },
  "language_info": {
   "codemirror_mode": {
    "name": "ipython",
    "version": 3
   },
   "file_extension": ".py",
   "mimetype": "text/x-python",
   "name": "python",
   "nbconvert_exporter": "python",
   "pygments_lexer": "ipython3",
   "version": "3.9.13"
  }
 },
 "nbformat": 4,
 "nbformat_minor": 5
}
